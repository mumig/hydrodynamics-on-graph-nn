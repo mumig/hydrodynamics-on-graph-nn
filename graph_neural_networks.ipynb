{
  "nbformat": 4,
  "nbformat_minor": 0,
  "metadata": {
    "colab": {
      "name": "GNN.ipynb",
      "provenance": [],
      "collapsed_sections": [],
      "toc_visible": true
    },
    "kernelspec": {
      "display_name": "Python 3",
      "name": "python3"
    },
    "language_info": {
      "name": "python"
    },
    "accelerator": "GPU"
  },
  "cells": [
    {
      "cell_type": "markdown",
      "source": [
        "# Загружаем архив и датасет:"
      ],
      "metadata": {
        "id": "TUrmzAiQIJqV"
      }
    },
    {
      "cell_type": "code",
      "metadata": {
        "id": "Kp4LERrO3i7M",
        "colab": {
          "base_uri": "https://localhost:8080/"
        },
        "outputId": "542f3aa5-0f12-4439-de36-a75e88154df3"
      },
      "source": [
        "# подключаем гугл диск\n",
        "from google.colab import drive\n",
        "drive.mount('/content/drive')"
      ],
      "execution_count": 1,
      "outputs": [
        {
          "output_type": "stream",
          "name": "stdout",
          "text": [
            "Mounted at /content/drive\n"
          ]
        }
      ]
    },
    {
      "cell_type": "code",
      "metadata": {
        "id": "ZRmti7D_6rOs",
        "colab": {
          "base_uri": "https://localhost:8080/"
        },
        "outputId": "c1c61293-2a64-4aef-ad08-43b77bc03fcc"
      },
      "source": [
        "# проверяем, что у нас есть архив\n",
        "!ls /content/drive/MyDrive/GNN/"
      ],
      "execution_count": 2,
      "outputs": [
        {
          "output_type": "stream",
          "name": "stdout",
          "text": [
            "deepmind-research-master.zip  test  tets_1\n"
          ]
        }
      ]
    },
    {
      "cell_type": "code",
      "source": [
        "# рахархивируем архив\n",
        "!unzip -q /content/drive/MyDrive/GNN/deepmind-research-master.zip"
      ],
      "metadata": {
        "id": "MbEd5zPWysLO"
      },
      "execution_count": 3,
      "outputs": []
    },
    {
      "cell_type": "code",
      "metadata": {
        "id": "xPCIxQWS9lKI"
      },
      "source": [
        "# создаем папки для загрузки датасета\n",
        "!mkdir -p /tmp/rollous\n",
        "!mkdir -p /tmp/datasets"
      ],
      "execution_count": 4,
      "outputs": []
    },
    {
      "cell_type": "code",
      "metadata": {
        "id": "hkPzW5t79-FP",
        "colab": {
          "base_uri": "https://localhost:8080/"
        },
        "outputId": "26c212b8-5aeb-4957-979f-c63cb1b05630"
      },
      "source": [
        "# загружаем датасет\n",
        "!bash /content/deepmind-research-master/learning_to_simulate/download_dataset.sh WaterRamps /tmp/datasets"
      ],
      "execution_count": 5,
      "outputs": [
        {
          "output_type": "stream",
          "name": "stdout",
          "text": [
            "--2022-03-15 08:05:00--  https://storage.googleapis.com/learning-to-simulate-complex-physics/Datasets/WaterRamps/metadata.json\n",
            "Resolving storage.googleapis.com (storage.googleapis.com)... 173.194.79.128, 108.177.119.128, 108.177.126.128, ...\n",
            "Connecting to storage.googleapis.com (storage.googleapis.com)|173.194.79.128|:443... connected.\n",
            "HTTP request sent, awaiting response... 200 OK\n",
            "Length: 366 [application/octet-stream]\n",
            "Saving to: ‘/tmp/datasets/WaterRamps/metadata.json’\n",
            "\n",
            "/tmp/datasets/Water 100%[===================>]     366  --.-KB/s    in 0s      \n",
            "\n",
            "2022-03-15 08:05:01 (84.5 MB/s) - ‘/tmp/datasets/WaterRamps/metadata.json’ saved [366/366]\n",
            "\n",
            "--2022-03-15 08:05:01--  https://storage.googleapis.com/learning-to-simulate-complex-physics/Datasets/WaterRamps/train.tfrecord\n",
            "Resolving storage.googleapis.com (storage.googleapis.com)... 108.177.119.128, 108.177.126.128, 108.177.127.128, ...\n",
            "Connecting to storage.googleapis.com (storage.googleapis.com)|108.177.119.128|:443... connected.\n",
            "HTTP request sent, awaiting response... 200 OK\n",
            "Length: 7350243340 (6.8G) [application/octet-stream]\n",
            "Saving to: ‘/tmp/datasets/WaterRamps/train.tfrecord’\n",
            "\n",
            "/tmp/datasets/Water 100%[===================>]   6.84G  40.9MB/s    in 2m 44s  \n",
            "\n",
            "2022-03-15 08:07:45 (42.8 MB/s) - ‘/tmp/datasets/WaterRamps/train.tfrecord’ saved [7350243340/7350243340]\n",
            "\n",
            "--2022-03-15 08:07:45--  https://storage.googleapis.com/learning-to-simulate-complex-physics/Datasets/WaterRamps/valid.tfrecord\n",
            "Resolving storage.googleapis.com (storage.googleapis.com)... 108.177.127.128, 142.251.31.128, 142.250.153.128, ...\n",
            "Connecting to storage.googleapis.com (storage.googleapis.com)|108.177.127.128|:443... connected.\n",
            "HTTP request sent, awaiting response... 200 OK\n",
            "Length: 700453664 (668M) [application/octet-stream]\n",
            "Saving to: ‘/tmp/datasets/WaterRamps/valid.tfrecord’\n",
            "\n",
            "/tmp/datasets/Water 100%[===================>] 668.00M  47.4MB/s    in 14s     \n",
            "\n",
            "2022-03-15 08:08:00 (48.2 MB/s) - ‘/tmp/datasets/WaterRamps/valid.tfrecord’ saved [700453664/700453664]\n",
            "\n",
            "--2022-03-15 08:08:00--  https://storage.googleapis.com/learning-to-simulate-complex-physics/Datasets/WaterRamps/test.tfrecord\n",
            "Resolving storage.googleapis.com (storage.googleapis.com)... 173.194.79.128, 108.177.119.128, 108.177.126.128, ...\n",
            "Connecting to storage.googleapis.com (storage.googleapis.com)|173.194.79.128|:443... connected.\n",
            "HTTP request sent, awaiting response... 200 OK\n",
            "Length: 745578992 (711M) [application/octet-stream]\n",
            "Saving to: ‘/tmp/datasets/WaterRamps/test.tfrecord’\n",
            "\n",
            "/tmp/datasets/Water 100%[===================>] 711.04M  49.4MB/s    in 14s     \n",
            "\n",
            "2022-03-15 08:08:15 (50.4 MB/s) - ‘/tmp/datasets/WaterRamps/test.tfrecord’ saved [745578992/745578992]\n",
            "\n"
          ]
        }
      ]
    },
    {
      "cell_type": "markdown",
      "source": [
        "## Извлекаем данные из TFrecords"
      ],
      "metadata": {
        "id": "MPdU_w0AIYuh"
      }
    },
    {
      "cell_type": "code",
      "source": [
        "# переходим в дерикторию архива \n",
        "%cd /content/deepmind-research-master"
      ],
      "metadata": {
        "id": "gIIfGNWaJpQW",
        "colab": {
          "base_uri": "https://localhost:8080/"
        },
        "outputId": "6e16cf28-0644-4602-c655-188969de552f"
      },
      "execution_count": 6,
      "outputs": [
        {
          "output_type": "stream",
          "name": "stdout",
          "text": [
            "/content/deepmind-research-master\n"
          ]
        }
      ]
    },
    {
      "cell_type": "code",
      "source": [
        "import functools\n",
        "import os\n",
        "import json\n",
        "import pickle\n",
        "\n",
        "import tensorflow.compat.v1 as tf\n",
        "import numpy as np\n",
        "\n",
        "from learning_to_simulate import reading_utils"
      ],
      "metadata": {
        "id": "__dqBJJHJMhs"
      },
      "execution_count": 7,
      "outputs": []
    },
    {
      "cell_type": "code",
      "source": [
        "# Определяем путь к данным и имя файла\n",
        "data_path = '/tmp/datasets/WaterRamps'\n",
        "filename = 'train.tfrecord'"
      ],
      "metadata": {
        "id": "_hZoj8-zJMkM"
      },
      "execution_count": 8,
      "outputs": []
    },
    {
      "cell_type": "markdown",
      "source": [
        "### Metadata"
      ],
      "metadata": {
        "id": "_fIviKJsxCsr"
      }
    },
    {
      "cell_type": "code",
      "source": [
        "# Читаем metadata\n",
        "def _read_metadata(data_path):\n",
        "    with open(os.path.join(data_path, 'metadata.json'), 'rt') as fp:\n",
        "        return json.loads(fp.read())\n",
        "\n",
        "metadata = _read_metadata(data_path)"
      ],
      "metadata": {
        "id": "uvK_5_ycJMmy"
      },
      "execution_count": 9,
      "outputs": []
    },
    {
      "cell_type": "code",
      "source": [
        "for key in metadata:\n",
        "  print(key, metadata[key])"
      ],
      "metadata": {
        "id": "GJsl_KWFJMpY",
        "colab": {
          "base_uri": "https://localhost:8080/"
        },
        "outputId": "242b9120-7df8-4a58-9352-7937c9532ed6"
      },
      "execution_count": 10,
      "outputs": [
        {
          "output_type": "stream",
          "name": "stdout",
          "text": [
            "bounds [[0.1, 0.9], [0.1, 0.9]]\n",
            "sequence_length 600\n",
            "default_connectivity_radius 0.015\n",
            "dim 2\n",
            "dt 0.0025\n",
            "vel_mean [-6.141567458658365e-08, -0.0007425391691160353]\n",
            "vel_std [0.0022381126134429557, 0.0022664486850394443]\n",
            "acc_mean [-1.713503820317499e-07, -2.1448168008479274e-07]\n",
            "acc_std [0.00016824548701156486, 0.0001819676291787043]\n"
          ]
        }
      ]
    },
    {
      "cell_type": "code",
      "source": [
        "# Определим глобальные переменные\n",
        "CON_RAD = metadata['default_connectivity_radius'] ** 2\n",
        "SEQ_LEN = metadata['sequence_length']"
      ],
      "metadata": {
        "id": "4s04UTlGWsxl"
      },
      "execution_count": 11,
      "outputs": []
    },
    {
      "cell_type": "markdown",
      "source": [
        "### Data"
      ],
      "metadata": {
        "id": "szGid7VixYo-"
      }
    },
    {
      "cell_type": "markdown",
      "source": [
        "В массиве positons находятся позиции точек. positions.shape = [t_steps_num, nodes_num, dim]"
      ],
      "metadata": {
        "id": "qmqOVNGQb8GB"
      }
    },
    {
      "cell_type": "code",
      "source": [
        "ds_org = tf.data.TFRecordDataset([os.path.join(data_path, filename)])\n",
        "ds = ds_org.map(functools.partial(reading_utils.parse_serialized_simulation_example, metadata=metadata))"
      ],
      "metadata": {
        "id": "KEBuMUUhJMsJ"
      },
      "execution_count": 12,
      "outputs": []
    },
    {
      "cell_type": "code",
      "source": [
        "particle_types = []\n",
        "keys = []\n",
        "positions = []\n",
        "for i, _ds in enumerate(ds):\n",
        "    context, features = _ds\n",
        "    particle_types.append(context[\"particle_type\"].numpy().astype(np.int64))\n",
        "    keys.append(context[\"key\"].numpy().astype(np.int64))\n",
        "    positions.append(features[\"position\"].numpy().astype(np.float32))\n",
        "    if i > 101:\n",
        "      break"
      ],
      "metadata": {
        "id": "y2qFa3DoLcU1"
      },
      "execution_count": 13,
      "outputs": []
    },
    {
      "cell_type": "code",
      "source": [
        "res_set = set(particle_types[0])\n",
        "for seq in particle_types:\n",
        "  cur_set = set(seq)\n",
        "  res_set = res_set | cur_set\n",
        "print('Different values in patrical_types:')\n",
        "print(res_set)"
      ],
      "metadata": {
        "id": "MOaxgfrbHxrg",
        "colab": {
          "base_uri": "https://localhost:8080/"
        },
        "outputId": "002e6b42-d5a8-42ea-c1cb-0b91e497984b"
      },
      "execution_count": 14,
      "outputs": [
        {
          "output_type": "stream",
          "name": "stdout",
          "text": [
            "Different values in patrical_types:\n",
            "{3, 5}\n"
          ]
        }
      ]
    },
    {
      "cell_type": "code",
      "source": [
        "for i in range(len(particle_types)):\n",
        "  for j in range(len(particle_types[i])):\n",
        "    if particle_types[i][j] == 5:\n",
        "      particle_types[i][j] = True\n",
        "    else:\n",
        "      particle_types[i][j] = False"
      ],
      "metadata": {
        "id": "rDY1KvnYiAM4"
      },
      "execution_count": 15,
      "outputs": []
    },
    {
      "cell_type": "code",
      "source": [
        "print('Shape of each element in positions:')\n",
        "print(positions[0].shape)"
      ],
      "metadata": {
        "id": "vD2nZZfs3l3M",
        "colab": {
          "base_uri": "https://localhost:8080/"
        },
        "outputId": "90921b5c-ec43-40b0-f95a-e2f5d9774cbf"
      },
      "execution_count": 16,
      "outputs": [
        {
          "output_type": "stream",
          "name": "stdout",
          "text": [
            "Shape of each element in positions:\n",
            "(601, 1688, 2)\n"
          ]
        }
      ]
    },
    {
      "cell_type": "code",
      "source": [
        "def get_borders_features(positions, borders):\n",
        "  return np.concatenate(((positions[:, 0]-borders[0][0]).reshape(-1, 1), (borders[0][1]-positions[:, 0]).reshape(-1, 1), \n",
        "                         (positions[:, 1]-borders[1][0]).reshape(-1, 1), (borders[1][1]-positions[:, 1]).reshape(-1, 1)), axis=1)"
      ],
      "metadata": {
        "id": "uvhSA4zKnq5K"
      },
      "execution_count": 17,
      "outputs": []
    },
    {
      "cell_type": "markdown",
      "source": [
        "Валидационная выборка"
      ],
      "metadata": {
        "id": "O6n0oWW3iQpc"
      }
    },
    {
      "cell_type": "code",
      "source": [
        "# Определяем путь к данным и имя файла\n",
        "val_data_path = '/tmp/datasets/WaterRamps'\n",
        "val_filename = 'valid.tfrecord'"
      ],
      "metadata": {
        "id": "tYNVK4SCihmb"
      },
      "execution_count": 18,
      "outputs": []
    },
    {
      "cell_type": "code",
      "source": [
        "ds_org = tf.data.TFRecordDataset([os.path.join(val_data_path, val_filename)])\n",
        "ds = ds_org.map(functools.partial(reading_utils.parse_serialized_simulation_example, metadata=metadata))"
      ],
      "metadata": {
        "id": "-_t3w34iiPwS"
      },
      "execution_count": 19,
      "outputs": []
    },
    {
      "cell_type": "code",
      "source": [
        "val_particle_types = []\n",
        "val_keys = []\n",
        "val_positions = []\n",
        "for i, _ds in enumerate(ds):\n",
        "    context, features = _ds\n",
        "    val_particle_types.append(context[\"particle_type\"].numpy().astype(np.int64))\n",
        "    val_keys.append(context[\"key\"].numpy().astype(np.int64))\n",
        "    val_positions.append(features[\"position\"].numpy().astype(np.float32))\n",
        "    if i > 101:\n",
        "      break"
      ],
      "metadata": {
        "id": "CLgzoVL8iW1Y"
      },
      "execution_count": 20,
      "outputs": []
    },
    {
      "cell_type": "code",
      "source": [
        "for i in range(len(val_particle_types)):\n",
        "  for j in range(len(val_particle_types[i])):\n",
        "    if val_particle_types[i][j] == 5:\n",
        "      val_particle_types[i][j] = True\n",
        "    else:\n",
        "      val_particle_types[i][j] = False"
      ],
      "metadata": {
        "id": "jTVNTAdliZbW"
      },
      "execution_count": 21,
      "outputs": []
    },
    {
      "cell_type": "markdown",
      "source": [
        "# GNN"
      ],
      "metadata": {
        "id": "74lLt5EkHYkc"
      }
    },
    {
      "cell_type": "markdown",
      "source": [
        "## Загружаем torch.geometric, определяем библиотеки"
      ],
      "metadata": {
        "id": "QSjuffI1x5rn"
      }
    },
    {
      "cell_type": "code",
      "source": [
        "!pip install torch-scatter -f https://data.pyg.org/whl/torch-1.10.0+cu113.html\n",
        "!pip install torch-sparse -f https://data.pyg.org/whl/torch-1.10.0+cu113.html\n",
        "!pip install torch-cluster -f https://data.pyg.org/whl/torch-1.10.0+cu113.html\n",
        "!pip install torch-geometric"
      ],
      "metadata": {
        "id": "ZOY1VOgAJhY7",
        "colab": {
          "base_uri": "https://localhost:8080/"
        },
        "outputId": "cd889b3d-a89c-4d0f-fd80-6dd255abddea"
      },
      "execution_count": 22,
      "outputs": [
        {
          "output_type": "stream",
          "name": "stdout",
          "text": [
            "Looking in links: https://data.pyg.org/whl/torch-1.10.0+cu113.html\n",
            "Collecting torch-scatter\n",
            "  Downloading https://data.pyg.org/whl/torch-1.10.0%2Bcu113/torch_scatter-2.0.9-cp37-cp37m-linux_x86_64.whl (7.9 MB)\n",
            "\u001b[K     |████████████████████████████████| 7.9 MB 11.4 MB/s \n",
            "\u001b[?25hInstalling collected packages: torch-scatter\n",
            "Successfully installed torch-scatter-2.0.9\n",
            "Looking in links: https://data.pyg.org/whl/torch-1.10.0+cu113.html\n",
            "Collecting torch-sparse\n",
            "  Downloading https://data.pyg.org/whl/torch-1.10.0%2Bcu113/torch_sparse-0.6.13-cp37-cp37m-linux_x86_64.whl (3.5 MB)\n",
            "\u001b[K     |████████████████████████████████| 3.5 MB 11.4 MB/s \n",
            "\u001b[?25hRequirement already satisfied: scipy in /usr/local/lib/python3.7/dist-packages (from torch-sparse) (1.4.1)\n",
            "Requirement already satisfied: numpy>=1.13.3 in /usr/local/lib/python3.7/dist-packages (from scipy->torch-sparse) (1.21.5)\n",
            "Installing collected packages: torch-sparse\n",
            "Successfully installed torch-sparse-0.6.13\n",
            "Looking in links: https://data.pyg.org/whl/torch-1.10.0+cu113.html\n",
            "Collecting torch-cluster\n",
            "  Downloading https://data.pyg.org/whl/torch-1.10.0%2Bcu113/torch_cluster-1.6.0-cp37-cp37m-linux_x86_64.whl (2.5 MB)\n",
            "\u001b[K     |████████████████████████████████| 2.5 MB 4.7 MB/s \n",
            "\u001b[?25hInstalling collected packages: torch-cluster\n",
            "Successfully installed torch-cluster-1.6.0\n",
            "Collecting torch-geometric\n",
            "  Downloading torch_geometric-2.0.4.tar.gz (407 kB)\n",
            "\u001b[K     |████████████████████████████████| 407 kB 14.4 MB/s \n",
            "\u001b[?25hRequirement already satisfied: tqdm in /usr/local/lib/python3.7/dist-packages (from torch-geometric) (4.63.0)\n",
            "Requirement already satisfied: numpy in /usr/local/lib/python3.7/dist-packages (from torch-geometric) (1.21.5)\n",
            "Requirement already satisfied: scipy in /usr/local/lib/python3.7/dist-packages (from torch-geometric) (1.4.1)\n",
            "Requirement already satisfied: pandas in /usr/local/lib/python3.7/dist-packages (from torch-geometric) (1.3.5)\n",
            "Requirement already satisfied: jinja2 in /usr/local/lib/python3.7/dist-packages (from torch-geometric) (2.11.3)\n",
            "Requirement already satisfied: requests in /usr/local/lib/python3.7/dist-packages (from torch-geometric) (2.23.0)\n",
            "Requirement already satisfied: pyparsing in /usr/local/lib/python3.7/dist-packages (from torch-geometric) (3.0.7)\n",
            "Requirement already satisfied: scikit-learn in /usr/local/lib/python3.7/dist-packages (from torch-geometric) (1.0.2)\n",
            "Requirement already satisfied: MarkupSafe>=0.23 in /usr/local/lib/python3.7/dist-packages (from jinja2->torch-geometric) (2.0.1)\n",
            "Requirement already satisfied: pytz>=2017.3 in /usr/local/lib/python3.7/dist-packages (from pandas->torch-geometric) (2018.9)\n",
            "Requirement already satisfied: python-dateutil>=2.7.3 in /usr/local/lib/python3.7/dist-packages (from pandas->torch-geometric) (2.8.2)\n",
            "Requirement already satisfied: six>=1.5 in /usr/local/lib/python3.7/dist-packages (from python-dateutil>=2.7.3->pandas->torch-geometric) (1.15.0)\n",
            "Requirement already satisfied: urllib3!=1.25.0,!=1.25.1,<1.26,>=1.21.1 in /usr/local/lib/python3.7/dist-packages (from requests->torch-geometric) (1.24.3)\n",
            "Requirement already satisfied: idna<3,>=2.5 in /usr/local/lib/python3.7/dist-packages (from requests->torch-geometric) (2.10)\n",
            "Requirement already satisfied: chardet<4,>=3.0.2 in /usr/local/lib/python3.7/dist-packages (from requests->torch-geometric) (3.0.4)\n",
            "Requirement already satisfied: certifi>=2017.4.17 in /usr/local/lib/python3.7/dist-packages (from requests->torch-geometric) (2021.10.8)\n",
            "Requirement already satisfied: joblib>=0.11 in /usr/local/lib/python3.7/dist-packages (from scikit-learn->torch-geometric) (1.1.0)\n",
            "Requirement already satisfied: threadpoolctl>=2.0.0 in /usr/local/lib/python3.7/dist-packages (from scikit-learn->torch-geometric) (3.1.0)\n",
            "Building wheels for collected packages: torch-geometric\n",
            "  Building wheel for torch-geometric (setup.py) ... \u001b[?25l\u001b[?25hdone\n",
            "  Created wheel for torch-geometric: filename=torch_geometric-2.0.4-py3-none-any.whl size=616603 sha256=6e3ee03ed20067f6e86f038a0d1775884025313db5e12f80ec34d41957ae134b\n",
            "  Stored in directory: /root/.cache/pip/wheels/18/a6/a4/ca18c3051fcead866fe7b85700ee2240d883562a1bc70ce421\n",
            "Successfully built torch-geometric\n",
            "Installing collected packages: torch-geometric\n",
            "Successfully installed torch-geometric-2.0.4\n"
          ]
        }
      ]
    },
    {
      "cell_type": "code",
      "source": [
        "import torch\n",
        "from torch import Tensor\n",
        "from torch_geometric.nn import GCNConv, MessagePassing, EdgeConv, BatchNorm, GCN\n",
        "from torch_cluster import knn_graph\n",
        "import torch.nn as nn\n",
        "import matplotlib.pyplot as plt\n",
        "from IPython.display import clear_output\n",
        "from tqdm.notebook import trange\n",
        "from tqdm import tqdm\n",
        "from torch.optim import lr_scheduler"
      ],
      "metadata": {
        "id": "yoK8TTYuKG-w"
      },
      "execution_count": 23,
      "outputs": []
    },
    {
      "cell_type": "code",
      "source": [
        "device = torch.device('cuda' if torch.cuda.is_available() else 'cpu')\n",
        "print(device)"
      ],
      "metadata": {
        "id": "SMP2Ed9m_VHG",
        "colab": {
          "base_uri": "https://localhost:8080/"
        },
        "outputId": "fbb11d90-fb14-4cca-d82d-bb0459bbb9b1"
      },
      "execution_count": 24,
      "outputs": [
        {
          "output_type": "stream",
          "name": "stdout",
          "text": [
            "cuda\n"
          ]
        }
      ]
    },
    {
      "cell_type": "markdown",
      "source": [
        "## Message passing net"
      ],
      "metadata": {
        "id": "BMDF68aWT5HB"
      }
    },
    {
      "cell_type": "markdown",
      "source": [
        "### GNN"
      ],
      "metadata": {
        "id": "Gpt6BMTS7uVc"
      }
    },
    {
      "cell_type": "code",
      "source": [
        "class GNN(MessagePassing):\n",
        "    def __init__(self, in_channels, hidden_channels, k=100):\n",
        "        super().__init__(aggr='add')\n",
        "\n",
        "        self.gnn1_mlp = nn.Sequential(\n",
        "                       nn.Linear(2*in_channels, hidden_channels//4),\n",
        "                       nn.BatchNorm1d(hidden_channels//4),\n",
        "                       nn.ReLU(),\n",
        "                       nn.Linear(hidden_channels//4, hidden_channels//2),\n",
        "                       nn.BatchNorm1d(hidden_channels//2),\n",
        "                       nn.ReLU(),\n",
        "                       nn.Linear(hidden_channels//2, hidden_channels),\n",
        "                       nn.BatchNorm1d(hidden_channels),\n",
        "                       nn.ReLU(),\n",
        "                       nn.Linear(hidden_channels, in_channels)\n",
        "                       )\n",
        "\n",
        "        self.gnn1 = EdgeConv(nn=self.gnn1_mlp, aggr='add')\n",
        "\n",
        "        self.gnn2_mlp = nn.Sequential(\n",
        "                       nn.Linear(2*in_channels, hidden_channels//4),\n",
        "                       nn.BatchNorm1d(hidden_channels//4),\n",
        "                       nn.ReLU(),\n",
        "                       nn.Linear(hidden_channels//4, hidden_channels//2),\n",
        "                       nn.BatchNorm1d(hidden_channels//2),\n",
        "                       nn.ReLU(),\n",
        "                       nn.Linear(hidden_channels//2, hidden_channels),\n",
        "                       nn.BatchNorm1d(hidden_channels),\n",
        "                       nn.ReLU(),\n",
        "                       nn.Linear(hidden_channels, in_channels)\n",
        "                       )\n",
        "\n",
        "        self.gnn2 = EdgeConv(nn=self.gnn2_mlp, aggr='add')\n",
        "\n",
        "        self.gnn3_mlp = nn.Sequential(\n",
        "                       nn.Linear(2*in_channels, hidden_channels//4),\n",
        "                       nn.BatchNorm1d(hidden_channels//4),\n",
        "                       nn.ReLU(),\n",
        "                       nn.Linear(hidden_channels//4, hidden_channels//2),\n",
        "                       nn.BatchNorm1d(hidden_channels//2),\n",
        "                       nn.ReLU(),\n",
        "                       nn.Linear(hidden_channels//2, hidden_channels),\n",
        "                       nn.BatchNorm1d(hidden_channels),\n",
        "                       nn.ReLU(),\n",
        "                       nn.Linear(hidden_channels, in_channels)\n",
        "                       )\n",
        "\n",
        "        self.gnn3 = EdgeConv(nn=self.gnn3_mlp, aggr='add')\n",
        "\n",
        "        self.gnn4_mlp = nn.Sequential(\n",
        "                       nn.Linear(2*in_channels, hidden_channels//4),\n",
        "                       nn.BatchNorm1d(hidden_channels//4),\n",
        "                       nn.ReLU(),\n",
        "                       nn.Linear(hidden_channels//4, hidden_channels//2),\n",
        "                       nn.BatchNorm1d(hidden_channels//2),\n",
        "                       nn.ReLU(),\n",
        "                       nn.Linear(hidden_channels//2, hidden_channels),\n",
        "                       nn.BatchNorm1d(hidden_channels),\n",
        "                       nn.ReLU(),\n",
        "                       nn.Linear(hidden_channels, in_channels)\n",
        "                       )\n",
        "\n",
        "        self.gnn4 = EdgeConv(nn=self.gnn4_mlp, aggr='add')\n",
        "\n",
        "        self.gnn5_mlp = nn.Sequential(\n",
        "                       nn.Linear(2*in_channels, hidden_channels//4),\n",
        "                       nn.BatchNorm1d(hidden_channels//4),\n",
        "                       nn.ReLU(),\n",
        "                       nn.Linear(hidden_channels//4, hidden_channels//2),\n",
        "                       nn.BatchNorm1d(hidden_channels//2),\n",
        "                       nn.ReLU(),\n",
        "                       nn.Linear(hidden_channels//2, hidden_channels),\n",
        "                       nn.BatchNorm1d(hidden_channels),\n",
        "                       nn.ReLU(),\n",
        "                       nn.Linear(hidden_channels, in_channels)\n",
        "                       )\n",
        "\n",
        "        self.gnn5 = EdgeConv(nn=self.gnn5_mlp, aggr='add')\n",
        "\n",
        "        self.gnn6_mlp = nn.Sequential(\n",
        "                       nn.Linear(2*in_channels, hidden_channels//4),\n",
        "                       nn.BatchNorm1d(hidden_channels//4),\n",
        "                       nn.ReLU(),\n",
        "                       nn.Linear(hidden_channels//4, hidden_channels//2),\n",
        "                       nn.BatchNorm1d(hidden_channels//2),\n",
        "                       nn.ReLU(),\n",
        "                       nn.Linear(hidden_channels//2, hidden_channels),\n",
        "                       nn.BatchNorm1d(hidden_channels),\n",
        "                       nn.ReLU(),\n",
        "                       nn.Linear(hidden_channels, in_channels)\n",
        "                       )\n",
        "\n",
        "        self.gnn6 = EdgeConv(nn=self.gnn5_mlp, aggr='add')\n",
        "\n",
        "        self.gnn7_mlp = nn.Sequential(\n",
        "                       nn.Linear(2*in_channels, hidden_channels//4),\n",
        "                       nn.BatchNorm1d(hidden_channels//4),\n",
        "                       nn.ReLU(),\n",
        "                       nn.Linear(hidden_channels//4, hidden_channels//2),\n",
        "                       nn.BatchNorm1d(hidden_channels//2),\n",
        "                       nn.ReLU(),\n",
        "                       nn.Linear(hidden_channels//2, hidden_channels),\n",
        "                       nn.BatchNorm1d(hidden_channels),\n",
        "                       nn.ReLU(),\n",
        "                       nn.Linear(hidden_channels, in_channels)\n",
        "                       )\n",
        "\n",
        "        self.gnn7 = EdgeConv(nn=self.gnn5_mlp, aggr='add')\n",
        "\n",
        "        self.gnn8_mlp = nn.Sequential(\n",
        "                       nn.Linear(2*in_channels, hidden_channels//4),\n",
        "                       nn.BatchNorm1d(hidden_channels//4),\n",
        "                       nn.ReLU(),\n",
        "                       nn.Linear(hidden_channels//4, hidden_channels//2),\n",
        "                       nn.BatchNorm1d(hidden_channels//2),\n",
        "                       nn.ReLU(),\n",
        "                       nn.Linear(hidden_channels//2, hidden_channels),\n",
        "                       nn.BatchNorm1d(hidden_channels),\n",
        "                       nn.ReLU(),\n",
        "                       nn.Linear(hidden_channels, in_channels)\n",
        "                       )\n",
        "\n",
        "        self.gnn8 = EdgeConv(nn=self.gnn5_mlp, aggr='add')\n",
        "\n",
        "        self.gnn9_mlp = nn.Sequential(\n",
        "                       nn.Linear(2*in_channels, hidden_channels//4),\n",
        "                       nn.BatchNorm1d(hidden_channels//4),\n",
        "                       nn.ReLU(),\n",
        "                       nn.Linear(hidden_channels//4, hidden_channels//2),\n",
        "                       nn.BatchNorm1d(hidden_channels//2),\n",
        "                       nn.ReLU(),\n",
        "                       nn.Linear(hidden_channels//2, hidden_channels),\n",
        "                       nn.BatchNorm1d(hidden_channels),\n",
        "                       nn.ReLU(),\n",
        "                       nn.Linear(hidden_channels, in_channels)\n",
        "                       )\n",
        "\n",
        "        self.gnn9 = EdgeConv(nn=self.gnn5_mlp, aggr='add')\n",
        "\n",
        "        self.gnn10_mlp = nn.Sequential(\n",
        "                       nn.Linear(2*in_channels, hidden_channels//4),\n",
        "                       nn.BatchNorm1d(hidden_channels//4),\n",
        "                       nn.ReLU(),\n",
        "                       nn.Linear(hidden_channels//4, hidden_channels//2),\n",
        "                       nn.BatchNorm1d(hidden_channels//2),\n",
        "                       nn.ReLU(),\n",
        "                       nn.Linear(hidden_channels//2, hidden_channels),\n",
        "                       nn.BatchNorm1d(hidden_channels),\n",
        "                       nn.ReLU(),\n",
        "                       nn.Linear(hidden_channels, in_channels)\n",
        "                       )\n",
        "\n",
        "        self.gnn10 = EdgeConv(nn=self.gnn5_mlp, aggr='add')\n",
        "\n",
        "        self.mlp = nn.Sequential(\n",
        "                       nn.Linear(2*(in_channels)-4, 2*hidden_channels),\n",
        "                       nn.BatchNorm1d(2*hidden_channels),\n",
        "                       nn.ReLU(),\n",
        "                       nn.Linear(2*hidden_channels, hidden_channels),\n",
        "                       nn.BatchNorm1d(hidden_channels),\n",
        "                       nn.ReLU(),\n",
        "                       nn.Linear(hidden_channels, hidden_channels)\n",
        "                       )\n",
        "        \n",
        "        self.lin = nn.Sequential(\n",
        "                       nn.Linear(in_channels+hidden_channels, hidden_channels),\n",
        "                       nn.BatchNorm1d(hidden_channels),\n",
        "                       nn.ReLU(),\n",
        "                       nn.Linear(hidden_channels, hidden_channels//2),\n",
        "                       nn.BatchNorm1d(hidden_channels//2),\n",
        "                       nn.ReLU(),\n",
        "                       nn.Linear(hidden_channels//2, hidden_channels//4),\n",
        "                       nn.BatchNorm1d(hidden_channels//4),\n",
        "                       nn.ReLU(),\n",
        "                       nn.Linear(hidden_channels//4, 2)\n",
        "                       )\n",
        "        \n",
        "        self.k = k\n",
        "\n",
        "    def forward(self, x, nodes_mask):\n",
        "        # x has shape [N, in_channels]\n",
        "        # edge_index has shape [2, E]\n",
        "        edge_index = knn_graph(x[:, :2], self.k, loop=True, flow=self.flow)\n",
        "\n",
        "        new_embedding = x + self.gnn1(x, edge_index)\n",
        "        new_embedding = new_embedding + self.gnn2(new_embedding, edge_index)\n",
        "        new_embedding = new_embedding + self.gnn3(new_embedding, edge_index)\n",
        "        new_embedding = new_embedding + self.gnn4(new_embedding, edge_index)\n",
        "        new_embedding = new_embedding + self.gnn5(new_embedding, edge_index)\n",
        "        new_embedding = new_embedding + self.gnn6(new_embedding, edge_index)\n",
        "        new_embedding = new_embedding + self.gnn7(new_embedding, edge_index)\n",
        "        new_embedding = new_embedding + self.gnn8(new_embedding, edge_index)\n",
        "        new_embedding = new_embedding + self.gnn9(new_embedding, edge_index)\n",
        "        new_embedding = new_embedding + self.gnn10(new_embedding, edge_index)\n",
        "\n",
        "        return self.propagate(edge_index=edge_index, x=new_embedding, nodes_mask=nodes_mask, first_input=x.clone().detach())\n",
        "\n",
        "    def message(self, x_i, x_j, nodes_mask):\n",
        "        # x_i has shape [E, in_channels]\n",
        "        # x_j has shape [E, in_channels]\n",
        "\n",
        "        return self.mlp(torch.cat([x_i, x_i[:, :-5]-x_j[:, :-5], x_j[:, -1].reshape(-1,1)], dim=1))\n",
        "      \n",
        "    def update(self, aggr_out, nodes_mask, first_input):\n",
        "        # aggr_out has shape [N, latent_size]\n",
        "\n",
        "        new_embedding = torch.cat([first_input[nodes_mask], aggr_out[nodes_mask]], dim=1)\n",
        "        new_embedding = self.lin(new_embedding)\n",
        "\n",
        "        result = torch.zeros_like(first_input[:, :2])\n",
        "        result[nodes_mask] = new_embedding\n",
        "        \n",
        "        return result"
      ],
      "metadata": {
        "id": "-Y420qGm7zNv"
      },
      "execution_count": 25,
      "outputs": []
    },
    {
      "cell_type": "code",
      "source": [
        "net_arch = '''\n",
        "class GNN(MessagePassing):\n",
        "    def __init__(self, in_channels, hidden_channels, k=100):\n",
        "        super().__init__(aggr='add')\n",
        "\n",
        "        self.gnn1_mlp = nn.Sequential(\n",
        "                       nn.Linear(2*in_channels, hidden_channels//4),\n",
        "                       nn.BatchNorm1d(hidden_channels//4),\n",
        "                       nn.ReLU(),\n",
        "                       nn.Linear(hidden_channels//4, hidden_channels//2),\n",
        "                       nn.BatchNorm1d(hidden_channels//2),\n",
        "                       nn.ReLU(),\n",
        "                       nn.Linear(hidden_channels//2, hidden_channels),\n",
        "                       nn.BatchNorm1d(hidden_channels),\n",
        "                       nn.ReLU(),\n",
        "                       nn.Linear(hidden_channels, in_channels)\n",
        "                       )\n",
        "\n",
        "        self.gnn1 = EdgeConv(nn=self.gnn1_mlp, aggr='add')\n",
        "\n",
        "        self.gnn2_mlp = nn.Sequential(\n",
        "                       nn.Linear(2*in_channels, hidden_channels//4),\n",
        "                       nn.BatchNorm1d(hidden_channels//4),\n",
        "                       nn.ReLU(),\n",
        "                       nn.Linear(hidden_channels//4, hidden_channels//2),\n",
        "                       nn.BatchNorm1d(hidden_channels//2),\n",
        "                       nn.ReLU(),\n",
        "                       nn.Linear(hidden_channels//2, hidden_channels),\n",
        "                       nn.BatchNorm1d(hidden_channels),\n",
        "                       nn.ReLU(),\n",
        "                       nn.Linear(hidden_channels, in_channels)\n",
        "                       )\n",
        "\n",
        "        self.gnn2 = EdgeConv(nn=self.gnn2_mlp, aggr='add')\n",
        "\n",
        "        self.gnn3_mlp = nn.Sequential(\n",
        "                       nn.Linear(2*in_channels, hidden_channels//4),\n",
        "                       nn.BatchNorm1d(hidden_channels//4),\n",
        "                       nn.ReLU(),\n",
        "                       nn.Linear(hidden_channels//4, hidden_channels//2),\n",
        "                       nn.BatchNorm1d(hidden_channels//2),\n",
        "                       nn.ReLU(),\n",
        "                       nn.Linear(hidden_channels//2, hidden_channels),\n",
        "                       nn.BatchNorm1d(hidden_channels),\n",
        "                       nn.ReLU(),\n",
        "                       nn.Linear(hidden_channels, in_channels)\n",
        "                       )\n",
        "\n",
        "        self.gnn3 = EdgeConv(nn=self.gnn3_mlp, aggr='add')\n",
        "\n",
        "        self.gnn4_mlp = nn.Sequential(\n",
        "                       nn.Linear(2*in_channels, hidden_channels//4),\n",
        "                       nn.BatchNorm1d(hidden_channels//4),\n",
        "                       nn.ReLU(),\n",
        "                       nn.Linear(hidden_channels//4, hidden_channels//2),\n",
        "                       nn.BatchNorm1d(hidden_channels//2),\n",
        "                       nn.ReLU(),\n",
        "                       nn.Linear(hidden_channels//2, hidden_channels),\n",
        "                       nn.BatchNorm1d(hidden_channels),\n",
        "                       nn.ReLU(),\n",
        "                       nn.Linear(hidden_channels, in_channels)\n",
        "                       )\n",
        "\n",
        "        self.gnn4 = EdgeConv(nn=self.gnn4_mlp, aggr='add')\n",
        "\n",
        "        self.gnn5_mlp = nn.Sequential(\n",
        "                       nn.Linear(2*in_channels, hidden_channels//4),\n",
        "                       nn.BatchNorm1d(hidden_channels//4),\n",
        "                       nn.ReLU(),\n",
        "                       nn.Linear(hidden_channels//4, hidden_channels//2),\n",
        "                       nn.BatchNorm1d(hidden_channels//2),\n",
        "                       nn.ReLU(),\n",
        "                       nn.Linear(hidden_channels//2, hidden_channels),\n",
        "                       nn.BatchNorm1d(hidden_channels),\n",
        "                       nn.ReLU(),\n",
        "                       nn.Linear(hidden_channels, in_channels)\n",
        "                       )\n",
        "\n",
        "        self.gnn5 = EdgeConv(nn=self.gnn5_mlp, aggr='add')\n",
        "\n",
        "        self.gnn6_mlp = nn.Sequential(\n",
        "                       nn.Linear(2*in_channels, hidden_channels//4),\n",
        "                       nn.BatchNorm1d(hidden_channels//4),\n",
        "                       nn.ReLU(),\n",
        "                       nn.Linear(hidden_channels//4, hidden_channels//2),\n",
        "                       nn.BatchNorm1d(hidden_channels//2),\n",
        "                       nn.ReLU(),\n",
        "                       nn.Linear(hidden_channels//2, hidden_channels),\n",
        "                       nn.BatchNorm1d(hidden_channels),\n",
        "                       nn.ReLU(),\n",
        "                       nn.Linear(hidden_channels, in_channels)\n",
        "                       )\n",
        "\n",
        "        self.gnn6 = EdgeConv(nn=self.gnn5_mlp, aggr='add')\n",
        "\n",
        "        self.gnn7_mlp = nn.Sequential(\n",
        "                       nn.Linear(2*in_channels, hidden_channels//4),\n",
        "                       nn.BatchNorm1d(hidden_channels//4),\n",
        "                       nn.ReLU(),\n",
        "                       nn.Linear(hidden_channels//4, hidden_channels//2),\n",
        "                       nn.BatchNorm1d(hidden_channels//2),\n",
        "                       nn.ReLU(),\n",
        "                       nn.Linear(hidden_channels//2, hidden_channels),\n",
        "                       nn.BatchNorm1d(hidden_channels),\n",
        "                       nn.ReLU(),\n",
        "                       nn.Linear(hidden_channels, in_channels)\n",
        "                       )\n",
        "\n",
        "        self.gnn7 = EdgeConv(nn=self.gnn5_mlp, aggr='add')\n",
        "\n",
        "        self.gnn8_mlp = nn.Sequential(\n",
        "                       nn.Linear(2*in_channels, hidden_channels//4),\n",
        "                       nn.BatchNorm1d(hidden_channels//4),\n",
        "                       nn.ReLU(),\n",
        "                       nn.Linear(hidden_channels//4, hidden_channels//2),\n",
        "                       nn.BatchNorm1d(hidden_channels//2),\n",
        "                       nn.ReLU(),\n",
        "                       nn.Linear(hidden_channels//2, hidden_channels),\n",
        "                       nn.BatchNorm1d(hidden_channels),\n",
        "                       nn.ReLU(),\n",
        "                       nn.Linear(hidden_channels, in_channels)\n",
        "                       )\n",
        "\n",
        "        self.gnn8 = EdgeConv(nn=self.gnn5_mlp, aggr='add')\n",
        "\n",
        "        self.gnn9_mlp = nn.Sequential(\n",
        "                       nn.Linear(2*in_channels, hidden_channels//4),\n",
        "                       nn.BatchNorm1d(hidden_channels//4),\n",
        "                       nn.ReLU(),\n",
        "                       nn.Linear(hidden_channels//4, hidden_channels//2),\n",
        "                       nn.BatchNorm1d(hidden_channels//2),\n",
        "                       nn.ReLU(),\n",
        "                       nn.Linear(hidden_channels//2, hidden_channels),\n",
        "                       nn.BatchNorm1d(hidden_channels),\n",
        "                       nn.ReLU(),\n",
        "                       nn.Linear(hidden_channels, in_channels)\n",
        "                       )\n",
        "\n",
        "        self.gnn9 = EdgeConv(nn=self.gnn5_mlp, aggr='add')\n",
        "\n",
        "        self.gnn10_mlp = nn.Sequential(\n",
        "                       nn.Linear(2*in_channels, hidden_channels//4),\n",
        "                       nn.BatchNorm1d(hidden_channels//4),\n",
        "                       nn.ReLU(),\n",
        "                       nn.Linear(hidden_channels//4, hidden_channels//2),\n",
        "                       nn.BatchNorm1d(hidden_channels//2),\n",
        "                       nn.ReLU(),\n",
        "                       nn.Linear(hidden_channels//2, hidden_channels),\n",
        "                       nn.BatchNorm1d(hidden_channels),\n",
        "                       nn.ReLU(),\n",
        "                       nn.Linear(hidden_channels, in_channels)\n",
        "                       )\n",
        "\n",
        "        self.gnn10 = EdgeConv(nn=self.gnn5_mlp, aggr='add')\n",
        "\n",
        "        self.mlp = nn.Sequential(\n",
        "                       nn.Linear(2*(in_channels)-4, 2*hidden_channels),\n",
        "                       nn.BatchNorm1d(2*hidden_channels),\n",
        "                       nn.ReLU(),\n",
        "                       nn.Linear(2*hidden_channels, hidden_channels),\n",
        "                       nn.BatchNorm1d(hidden_channels),\n",
        "                       nn.ReLU(),\n",
        "                       nn.Linear(hidden_channels, hidden_channels)\n",
        "                       )\n",
        "        \n",
        "        self.lin = nn.Sequential(\n",
        "                       nn.Linear(in_channels+hidden_channels, hidden_channels),\n",
        "                       nn.BatchNorm1d(hidden_channels),\n",
        "                       nn.ReLU(),\n",
        "                       nn.Linear(hidden_channels, hidden_channels//2),\n",
        "                       nn.BatchNorm1d(hidden_channels//2),\n",
        "                       nn.ReLU(),\n",
        "                       nn.Linear(hidden_channels//2, hidden_channels//4),\n",
        "                       nn.BatchNorm1d(hidden_channels//4),\n",
        "                       nn.ReLU(),\n",
        "                       nn.Linear(hidden_channels//4, 2)\n",
        "                       )\n",
        "        \n",
        "        self.k = k\n",
        "\n",
        "    def forward(self, x, nodes_mask):\n",
        "        # x has shape [N, in_channels]\n",
        "        # edge_index has shape [2, E]\n",
        "        edge_index = knn_graph(x[:, :2], self.k, loop=True, flow=self.flow)\n",
        "\n",
        "        new_embedding = x + self.gnn1(x, edge_index)\n",
        "        new_embedding = new_embedding + self.gnn2(new_embedding, edge_index)\n",
        "        new_embedding = new_embedding + self.gnn3(new_embedding, edge_index)\n",
        "        new_embedding = new_embedding + self.gnn4(new_embedding, edge_index)\n",
        "        new_embedding = new_embedding + self.gnn5(new_embedding, edge_index)\n",
        "        new_embedding = new_embedding + self.gnn6(new_embedding, edge_index)\n",
        "        new_embedding = new_embedding + self.gnn7(new_embedding, edge_index)\n",
        "        new_embedding = new_embedding + self.gnn8(new_embedding, edge_index)\n",
        "        new_embedding = new_embedding + self.gnn9(new_embedding, edge_index)\n",
        "        new_embedding = new_embedding + self.gnn10(new_embedding, edge_index)\n",
        "\n",
        "        return self.propagate(edge_index=edge_index, x=new_embedding, nodes_mask=nodes_mask, first_input=x.clone().detach())\n",
        "\n",
        "    def message(self, x_i, x_j, nodes_mask):\n",
        "        # x_i has shape [E, in_channels]\n",
        "        # x_j has shape [E, in_channels]\n",
        "\n",
        "        return self.mlp(torch.cat([x_i, x_i[:, :-5]-x_j[:, :-5], x_j[:, -1].reshape(-1,1)], dim=1))\n",
        "      \n",
        "    def update(self, aggr_out, nodes_mask, first_input):\n",
        "        # aggr_out has shape [N, latent_size]\n",
        "\n",
        "        new_embedding = torch.cat([first_input[nodes_mask], aggr_out[nodes_mask]], dim=1)\n",
        "        new_embedding = self.lin(new_embedding)\n",
        "\n",
        "        result = torch.zeros_like(first_input[:, :2])\n",
        "        result[nodes_mask] = new_embedding\n",
        "        \n",
        "        return result\n",
        "'''"
      ],
      "metadata": {
        "id": "i00bxrPCgheY"
      },
      "execution_count": 26,
      "outputs": []
    },
    {
      "cell_type": "markdown",
      "source": [
        "## Train function"
      ],
      "metadata": {
        "id": "lz605a6S40Ec"
      }
    },
    {
      "cell_type": "markdown",
      "source": [
        "### Train per step"
      ],
      "metadata": {
        "id": "C2o4HPkTlyEC"
      }
    },
    {
      "cell_type": "code",
      "source": [
        "def get_borders_features(positions, borders):\n",
        "  return np.concatenate(((positions[:, 0]-borders[0][0]).reshape(-1, 1), (borders[0][1]-positions[:, 0]).reshape(-1, 1), \n",
        "                         (positions[:, 1]-borders[1][0]).reshape(-1, 1), (borders[1][1]-positions[:, 1]).reshape(-1, 1)), axis=1)"
      ],
      "metadata": {
        "id": "yUGQE6Ic-Npp"
      },
      "execution_count": 27,
      "outputs": []
    },
    {
      "cell_type": "code",
      "source": [
        "def build_scene(data, particle_types, inds, metadata, input_len, noise_scale):\n",
        "\n",
        "  i, j = inds\n",
        "\n",
        "  noise = np.random.normal(loc=1.0, scale=noise_scale, size=data[i][j].shape)\n",
        "\n",
        "  features = torch.tensor(data[i][j], dtype=torch.float)\n",
        "\n",
        "  for l in range(1, input_len):\n",
        "    features = torch.cat([features, torch.tensor(data[i][j-l])], dim=1)\n",
        "\n",
        "  features = torch.cat([features, torch.tensor(get_borders_features(data[i][j], metadata['bounds'])), \n",
        "                        torch.tensor(particle_types[i]).view(-1, 1)], dim=1)\n",
        "  \n",
        "  node_mask = torch.BoolTensor(particle_types[i])\n",
        "  next_pos = torch.tensor(data[i][j+1])\n",
        "\n",
        "  return features, node_mask, next_pos"
      ],
      "metadata": {
        "id": "DduXPZYipQfl"
      },
      "execution_count": 28,
      "outputs": []
    },
    {
      "cell_type": "code",
      "source": [
        "def build_next_pos(data, pred, inds):\n",
        "\n",
        "  i, j = inds\n",
        "  cur_pos = torch.tensor(data[i][j], device=device, requires_grad=False)\n",
        "  prev1_pos = torch.tensor(data[i][j-1], device=device, requires_grad=False)\n",
        "  prev2_pos = torch.tensor(data[i][j-2], device=device, requires_grad=False)\n",
        "\n",
        "  return cur_pos + (cur_pos-prev1_pos+pred)*metadata['dt'] + (cur_pos-2*prev1_pos+prev2_pos)*(metadata['dt']**2)"
      ],
      "metadata": {
        "id": "WJ0BIImdDXZU"
      },
      "execution_count": 29,
      "outputs": []
    },
    {
      "cell_type": "code",
      "source": [
        "from torch.utils.data import DataLoader\n",
        "import random\n",
        "import time\n",
        "\n",
        "def train_vel(model, optimizer, scheduler, criterion, epochs, train_data, particle_types_train, val_data, particle_types_val):\n",
        "\n",
        "  model.eval()\n",
        "  model.load_state_dict(torch.load('/content/drive/MyDrive/GNN/test/state_dict_model.pt'))\n",
        "\n",
        "  train_losses = []\n",
        "  val_losses = []\n",
        "  lgr_losses = []\n",
        "\n",
        "  train_inds = []\n",
        "  for i in range(len(train_data)):\n",
        "    for j in range(5, metadata['sequence_length']):\n",
        "      train_inds.append((i, j))\n",
        "\n",
        "  val_inds = []\n",
        "  for i in range(len(val_data)):\n",
        "    for j in range(5, metadata['sequence_length']):\n",
        "      val_inds.append((i, j))\n",
        "\n",
        "  for epoch in range(epochs):\n",
        "\n",
        "    start_epoch = time.time()\n",
        "\n",
        "    print('Epoch', epoch+1)\n",
        "\n",
        "    model.train()\n",
        "    seq_train_losses = []\n",
        "    pred_lgr_seq_losses = []\n",
        "\n",
        "    print('Train')\n",
        "\n",
        "    # train_data.shape = [batches, SEQ_LEN, nodes_num, 2]\n",
        "    random.shuffle(train_inds)\n",
        "    for inds in tqdm(train_inds):\n",
        "\n",
        "      features, node_mask, next_pos = build_scene(train_data, particle_types_train, inds, metadata, 3, 0.0003)\n",
        "\n",
        "      features = features.to(device)\n",
        "      node_mask = node_mask.to(device)\n",
        "      true_pos = next_pos.to(device)\n",
        "\n",
        "      optimizer.zero_grad()\n",
        "\n",
        "      pred = model(features, node_mask)\n",
        "      pred_pos = build_next_pos(train_data, pred, inds)\n",
        "\n",
        "      pred_lgr_pos = build_next_pos(train_data, torch.zeros_like(pred), inds)\n",
        "      pred_lgr_seq_losses.append(criterion(pred_lgr_pos[node_mask], true_pos[node_mask]).item())\n",
        "\n",
        "      loss = criterion(pred_pos[node_mask], true_pos[node_mask])\n",
        "      seq_train_losses.append(loss.item())\n",
        "      loss.backward()\n",
        "\n",
        "      optimizer.step()\n",
        "\n",
        "    train_losses.append(np.mean(seq_train_losses))\n",
        "    lgr_losses.append(np.mean(pred_lgr_seq_losses))\n",
        "    print('Train loss:', train_losses[-1])\n",
        "    print('Lgr loss:', lgr_losses[-1])\n",
        "\n",
        "    with open(\"/content/drive/MyDrive/GNN/test/train_losses.txt\", \"a\") as file:\n",
        "      print(train_losses[-1], file=file)\n",
        "\n",
        "    # validation\n",
        "    model.eval()\n",
        "    seq_val_losses = []\n",
        "\n",
        "    print('Validation')\n",
        "\n",
        "    random.shuffle(val_inds)\n",
        "    with torch.no_grad():\n",
        "\n",
        "      for inds in tqdm(val_inds):\n",
        "\n",
        "        features, node_mask, next_pos = build_scene(val_data, particle_types_val, inds, metadata, 3, 0.0003)\n",
        "\n",
        "        features = features.to(device)\n",
        "        node_mask = node_mask.to(device)\n",
        "        true_pos = next_pos.to(device)\n",
        "\n",
        "        pred = model(features, node_mask)\n",
        "        pred_pos = build_next_pos(val_data, pred, inds)\n",
        "        \n",
        "        loss = criterion(pred_pos[node_mask], true_pos[node_mask])\n",
        "        seq_val_losses.append(loss.item())\n",
        "\n",
        "    scheduler.step()\n",
        "\n",
        "    val_losses.append(np.mean(seq_val_losses))\n",
        "    print('Validation loss:', val_losses[-1])\n",
        "    print('')\n",
        "\n",
        "    with open(\"/content/drive/MyDrive/GNN/test/val_losses.txt\", \"a\") as file:\n",
        "      print(val_losses[-1], file=file)\n",
        "\n",
        "    torch.save(model.state_dict(), '/content/drive/MyDrive/GNN/test/state_dict_model.pt')\n",
        "\n",
        "    end_epoch = time.time()\n",
        "    with open(\"/content/drive/MyDrive/GNN/test/time.txt\", \"a\") as file:\n",
        "      print(end_epoch-start_epoch, file=file)\n",
        "\n",
        "\n",
        "  return train_losses, val_losses"
      ],
      "metadata": {
        "id": "V61KgA3R2XOu"
      },
      "execution_count": 30,
      "outputs": []
    },
    {
      "cell_type": "markdown",
      "source": [
        "## Train"
      ],
      "metadata": {
        "id": "wtQCMObNzm-R"
      }
    },
    {
      "cell_type": "markdown",
      "source": [
        "### Data define"
      ],
      "metadata": {
        "id": "-3aYprCtmDy0"
      }
    },
    {
      "cell_type": "code",
      "source": [
        "train_data = positions[:100]\n",
        "particle_types_train = particle_types[:100]\n",
        "\n",
        "val_data = val_positions[:10]\n",
        "particle_types_val = val_particle_types[:10]"
      ],
      "metadata": {
        "id": "izAyiZM-5Thl"
      },
      "execution_count": 31,
      "outputs": []
    },
    {
      "cell_type": "markdown",
      "source": [
        "### Define GNN"
      ],
      "metadata": {
        "id": "ZOtIa3-uIV9K"
      }
    },
    {
      "cell_type": "code",
      "source": [
        "torch.cuda.empty_cache()"
      ],
      "metadata": {
        "id": "MhQW6bKLYflm"
      },
      "execution_count": 32,
      "outputs": []
    },
    {
      "cell_type": "code",
      "source": [
        "gnn = GNN(in_channels=2 + 2*2 + 4 + 1, hidden_channels=128).to(device)\n",
        "optimizer = torch.optim.Adam(gnn.parameters(), lr=1e-4)\n",
        "criterion = torch.nn.MSELoss()\n",
        "scheduler = lr_scheduler.MultiStepLR(optimizer, milestones=[3, 5, 7], gamma=1)\n",
        "epochs = 10"
      ],
      "metadata": {
        "id": "z2uoWtSvIQ3D"
      },
      "execution_count": 33,
      "outputs": []
    },
    {
      "cell_type": "code",
      "source": [
        "with open(\"/content/drive/MyDrive/GNN/test/net_info.txt\", \"w\") as file:\n",
        "  print(net_arch, file=file)"
      ],
      "metadata": {
        "id": "2Ta2O4_BgVOn"
      },
      "execution_count": 34,
      "outputs": []
    },
    {
      "cell_type": "code",
      "source": [
        "total_params = sum(p.numel() for p in gnn.parameters())\n",
        "with open(\"/content/drive/MyDrive/GNN/test/net_info.txt\", \"a\") as file:\n",
        "  print('TOTAL_PARAMS:', total_params, file=file)"
      ],
      "metadata": {
        "id": "yscqOyHsg8Ys"
      },
      "execution_count": 35,
      "outputs": []
    },
    {
      "cell_type": "code",
      "source": [
        "with open(\"/content/drive/MyDrive/GNN/test/net_info.txt\", \"a\") as file:\n",
        "  print('LR_strat:', 'Adam', 'lr=1e-4', file=file)"
      ],
      "metadata": {
        "id": "p1XkEIyvl25S"
      },
      "execution_count": 36,
      "outputs": []
    },
    {
      "cell_type": "code",
      "source": [
        "#torch.save(gnn.state_dict(), '/content/drive/MyDrive/GNN/test/state_dict_model.pt')"
      ],
      "metadata": {
        "id": "nolfKgOCcShb"
      },
      "execution_count": 37,
      "outputs": []
    },
    {
      "cell_type": "markdown",
      "source": [
        "### Train per step"
      ],
      "metadata": {
        "id": "YRsmMZvj1mV7"
      }
    },
    {
      "cell_type": "code",
      "source": [
        "train_losses, val_losses = train_vel(gnn, optimizer, scheduler, criterion, epochs, train_data, particle_types_train, val_data, particle_types_val)"
      ],
      "metadata": {
        "colab": {
          "base_uri": "https://localhost:8080/"
        },
        "id": "XZemvGCwm29I",
        "outputId": "35c42e64-0942-4ecf-f51f-cb436612fb73"
      },
      "execution_count": null,
      "outputs": [
        {
          "output_type": "stream",
          "name": "stdout",
          "text": [
            "Epoch 1\n",
            "Train\n"
          ]
        },
        {
          "output_type": "stream",
          "name": "stderr",
          "text": [
            " 12%|█▏        | 7007/59500 [47:10<5:53:44,  2.47it/s]"
          ]
        }
      ]
    },
    {
      "cell_type": "code",
      "source": [
        "train_losses, val_losses = train_vel(gnn, optimizer, scheduler, criterion, epochs, train_data, particle_types_train, val_data, particle_types_val)"
      ],
      "metadata": {
        "colab": {
          "base_uri": "https://localhost:8080/",
          "height": 706
        },
        "id": "wHHFWDd5kiPr",
        "outputId": "0f51e744-4703-488a-c07f-0c464ac0f094"
      },
      "execution_count": 40,
      "outputs": [
        {
          "output_type": "stream",
          "name": "stdout",
          "text": [
            "Epoch 1\n",
            "Train\n"
          ]
        },
        {
          "output_type": "stream",
          "name": "stderr",
          "text": [
            "100%|██████████| 59500/59500 [6:39:18<00:00,  2.48it/s]\n"
          ]
        },
        {
          "output_type": "stream",
          "name": "stdout",
          "text": [
            "Train loss: 3.897840338169851e-07\n",
            "Lgr loss: 5.496816965665625e-06\n",
            "Validation\n"
          ]
        },
        {
          "output_type": "stream",
          "name": "stderr",
          "text": [
            "100%|██████████| 5950/5950 [28:16<00:00,  3.51it/s]\n"
          ]
        },
        {
          "output_type": "stream",
          "name": "stdout",
          "text": [
            "Validation loss: 1.9021054644883408e-07\n",
            "\n",
            "Epoch 2\n",
            "Train\n"
          ]
        },
        {
          "output_type": "stream",
          "name": "stderr",
          "text": [
            "100%|██████████| 59500/59500 [6:38:36<00:00,  2.49it/s]\n"
          ]
        },
        {
          "output_type": "stream",
          "name": "stdout",
          "text": [
            "Train loss: 2.5550190215785936e-07\n",
            "Lgr loss: 5.496816965665625e-06\n",
            "Validation\n"
          ]
        },
        {
          "output_type": "stream",
          "name": "stderr",
          "text": [
            "100%|██████████| 5950/5950 [28:12<00:00,  3.52it/s]\n"
          ]
        },
        {
          "output_type": "stream",
          "name": "stdout",
          "text": [
            "Validation loss: 1.778540843872574e-07\n",
            "\n",
            "Epoch 3\n",
            "Train\n"
          ]
        },
        {
          "output_type": "stream",
          "name": "stderr",
          "text": [
            " 14%|█▍        | 8227/59500 [55:03<5:43:06,  2.49it/s]\n"
          ]
        },
        {
          "output_type": "error",
          "ename": "KeyboardInterrupt",
          "evalue": "ignored",
          "traceback": [
            "\u001b[0;31m---------------------------------------------------------------------------\u001b[0m",
            "\u001b[0;31mKeyboardInterrupt\u001b[0m                         Traceback (most recent call last)",
            "\u001b[0;32m<ipython-input-40-7a448ad80f87>\u001b[0m in \u001b[0;36m<module>\u001b[0;34m()\u001b[0m\n\u001b[0;32m----> 1\u001b[0;31m \u001b[0mtrain_losses\u001b[0m\u001b[0;34m,\u001b[0m \u001b[0mval_losses\u001b[0m \u001b[0;34m=\u001b[0m \u001b[0mtrain_vel\u001b[0m\u001b[0;34m(\u001b[0m\u001b[0mgnn\u001b[0m\u001b[0;34m,\u001b[0m \u001b[0moptimizer\u001b[0m\u001b[0;34m,\u001b[0m \u001b[0mscheduler\u001b[0m\u001b[0;34m,\u001b[0m \u001b[0mcriterion\u001b[0m\u001b[0;34m,\u001b[0m \u001b[0mepochs\u001b[0m\u001b[0;34m,\u001b[0m \u001b[0mtrain_data\u001b[0m\u001b[0;34m,\u001b[0m \u001b[0mparticle_types_train\u001b[0m\u001b[0;34m,\u001b[0m \u001b[0mval_data\u001b[0m\u001b[0;34m,\u001b[0m \u001b[0mparticle_types_val\u001b[0m\u001b[0;34m)\u001b[0m\u001b[0;34m\u001b[0m\u001b[0;34m\u001b[0m\u001b[0m\n\u001b[0m",
            "\u001b[0;32m<ipython-input-30-20b16580b43b>\u001b[0m in \u001b[0;36mtrain_vel\u001b[0;34m(model, optimizer, scheduler, criterion, epochs, train_data, particle_types_train, val_data, particle_types_val)\u001b[0m\n\u001b[1;32m     46\u001b[0m       \u001b[0moptimizer\u001b[0m\u001b[0;34m.\u001b[0m\u001b[0mzero_grad\u001b[0m\u001b[0;34m(\u001b[0m\u001b[0;34m)\u001b[0m\u001b[0;34m\u001b[0m\u001b[0;34m\u001b[0m\u001b[0m\n\u001b[1;32m     47\u001b[0m \u001b[0;34m\u001b[0m\u001b[0m\n\u001b[0;32m---> 48\u001b[0;31m       \u001b[0mpred\u001b[0m \u001b[0;34m=\u001b[0m \u001b[0mmodel\u001b[0m\u001b[0;34m(\u001b[0m\u001b[0mfeatures\u001b[0m\u001b[0;34m,\u001b[0m \u001b[0mnode_mask\u001b[0m\u001b[0;34m)\u001b[0m\u001b[0;34m\u001b[0m\u001b[0;34m\u001b[0m\u001b[0m\n\u001b[0m\u001b[1;32m     49\u001b[0m       \u001b[0mpred_pos\u001b[0m \u001b[0;34m=\u001b[0m \u001b[0mbuild_next_pos\u001b[0m\u001b[0;34m(\u001b[0m\u001b[0mtrain_data\u001b[0m\u001b[0;34m,\u001b[0m \u001b[0mpred\u001b[0m\u001b[0;34m,\u001b[0m \u001b[0minds\u001b[0m\u001b[0;34m)\u001b[0m\u001b[0;34m\u001b[0m\u001b[0;34m\u001b[0m\u001b[0m\n\u001b[1;32m     50\u001b[0m \u001b[0;34m\u001b[0m\u001b[0m\n",
            "\u001b[0;32m/usr/local/lib/python3.7/dist-packages/torch/nn/modules/module.py\u001b[0m in \u001b[0;36m_call_impl\u001b[0;34m(self, *input, **kwargs)\u001b[0m\n\u001b[1;32m   1100\u001b[0m         if not (self._backward_hooks or self._forward_hooks or self._forward_pre_hooks or _global_backward_hooks\n\u001b[1;32m   1101\u001b[0m                 or _global_forward_hooks or _global_forward_pre_hooks):\n\u001b[0;32m-> 1102\u001b[0;31m             \u001b[0;32mreturn\u001b[0m \u001b[0mforward_call\u001b[0m\u001b[0;34m(\u001b[0m\u001b[0;34m*\u001b[0m\u001b[0minput\u001b[0m\u001b[0;34m,\u001b[0m \u001b[0;34m**\u001b[0m\u001b[0mkwargs\u001b[0m\u001b[0;34m)\u001b[0m\u001b[0;34m\u001b[0m\u001b[0;34m\u001b[0m\u001b[0m\n\u001b[0m\u001b[1;32m   1103\u001b[0m         \u001b[0;31m# Do not call functions when jit is used\u001b[0m\u001b[0;34m\u001b[0m\u001b[0;34m\u001b[0m\u001b[0;34m\u001b[0m\u001b[0m\n\u001b[1;32m   1104\u001b[0m         \u001b[0mfull_backward_hooks\u001b[0m\u001b[0;34m,\u001b[0m \u001b[0mnon_full_backward_hooks\u001b[0m \u001b[0;34m=\u001b[0m \u001b[0;34m[\u001b[0m\u001b[0;34m]\u001b[0m\u001b[0;34m,\u001b[0m \u001b[0;34m[\u001b[0m\u001b[0;34m]\u001b[0m\u001b[0;34m\u001b[0m\u001b[0;34m\u001b[0m\u001b[0m\n",
            "\u001b[0;32m<ipython-input-25-19967b5fb7e2>\u001b[0m in \u001b[0;36mforward\u001b[0;34m(self, x, nodes_mask)\u001b[0m\n\u001b[1;32m    181\u001b[0m         \u001b[0;31m# x has shape [N, in_channels]\u001b[0m\u001b[0;34m\u001b[0m\u001b[0;34m\u001b[0m\u001b[0;34m\u001b[0m\u001b[0m\n\u001b[1;32m    182\u001b[0m         \u001b[0;31m# edge_index has shape [2, E]\u001b[0m\u001b[0;34m\u001b[0m\u001b[0;34m\u001b[0m\u001b[0;34m\u001b[0m\u001b[0m\n\u001b[0;32m--> 183\u001b[0;31m         \u001b[0medge_index\u001b[0m \u001b[0;34m=\u001b[0m \u001b[0mknn_graph\u001b[0m\u001b[0;34m(\u001b[0m\u001b[0mx\u001b[0m\u001b[0;34m[\u001b[0m\u001b[0;34m:\u001b[0m\u001b[0;34m,\u001b[0m \u001b[0;34m:\u001b[0m\u001b[0;36m2\u001b[0m\u001b[0;34m]\u001b[0m\u001b[0;34m,\u001b[0m \u001b[0mself\u001b[0m\u001b[0;34m.\u001b[0m\u001b[0mk\u001b[0m\u001b[0;34m,\u001b[0m \u001b[0mloop\u001b[0m\u001b[0;34m=\u001b[0m\u001b[0;32mTrue\u001b[0m\u001b[0;34m,\u001b[0m \u001b[0mflow\u001b[0m\u001b[0;34m=\u001b[0m\u001b[0mself\u001b[0m\u001b[0;34m.\u001b[0m\u001b[0mflow\u001b[0m\u001b[0;34m)\u001b[0m\u001b[0;34m\u001b[0m\u001b[0;34m\u001b[0m\u001b[0m\n\u001b[0m\u001b[1;32m    184\u001b[0m \u001b[0;34m\u001b[0m\u001b[0m\n\u001b[1;32m    185\u001b[0m         \u001b[0mnew_embedding\u001b[0m \u001b[0;34m=\u001b[0m \u001b[0mx\u001b[0m \u001b[0;34m+\u001b[0m \u001b[0mself\u001b[0m\u001b[0;34m.\u001b[0m\u001b[0mgnn1\u001b[0m\u001b[0;34m(\u001b[0m\u001b[0mx\u001b[0m\u001b[0;34m,\u001b[0m \u001b[0medge_index\u001b[0m\u001b[0;34m)\u001b[0m\u001b[0;34m\u001b[0m\u001b[0;34m\u001b[0m\u001b[0m\n",
            "\u001b[0;31mKeyboardInterrupt\u001b[0m: "
          ]
        }
      ]
    },
    {
      "cell_type": "markdown",
      "source": [
        "### Figure"
      ],
      "metadata": {
        "id": "Ps8vZ6btmT29"
      }
    },
    {
      "cell_type": "code",
      "source": [
        "fig = plt.figure(figsize=(10, 7))\n",
        "ax = fig.add_subplot(1, 1, 1)\n",
        "\n",
        "ax.plot(range(1, epochs+1), train_losses, color='blue', label='train losses')\n",
        "ax.plot(range(1, epochs+1), val_losses, color='red', label='validation losses')\n",
        "ax.set_title('Losses per epoch:')\n",
        "ax.legend()\n",
        "plt.show()"
      ],
      "metadata": {
        "id": "ZiLYadlHFeiA"
      },
      "execution_count": null,
      "outputs": []
    },
    {
      "cell_type": "markdown",
      "source": [
        "# Посмотрим на предсказанную эволюцию "
      ],
      "metadata": {
        "id": "vyjCyatR6TxZ"
      }
    },
    {
      "cell_type": "markdown",
      "source": [
        "## Предсказание следующего шага"
      ],
      "metadata": {
        "id": "IjcKkV_KADUZ"
      }
    },
    {
      "cell_type": "code",
      "source": [
        "test_data = positions[1]\n",
        "particle_types_test = particle_types[1]"
      ],
      "metadata": {
        "id": "1bIE-lpuAHdS"
      },
      "execution_count": null,
      "outputs": []
    },
    {
      "cell_type": "code",
      "source": [
        "torch.tensor(positions[1][0]).shape"
      ],
      "metadata": {
        "colab": {
          "base_uri": "https://localhost:8080/"
        },
        "id": "KLRTv3JDBINg",
        "outputId": "f06e34dc-0e90-40b1-ff23-2bf48d195fd2"
      },
      "execution_count": null,
      "outputs": [
        {
          "output_type": "execute_result",
          "data": {
            "text/plain": [
              "torch.Size([1179, 2])"
            ]
          },
          "metadata": {},
          "execution_count": 32
        }
      ]
    },
    {
      "cell_type": "code",
      "source": [
        "torch.tensor(positions[1][0]).shape"
      ],
      "metadata": {
        "colab": {
          "base_uri": "https://localhost:8080/"
        },
        "id": "HSREUcnWBBjn",
        "outputId": "0065a4cf-f128-4c67-a7f7-8a03e2d8d247"
      },
      "execution_count": null,
      "outputs": [
        {
          "output_type": "execute_result",
          "data": {
            "text/plain": [
              "torch.Size([1179, 2])"
            ]
          },
          "metadata": {},
          "execution_count": 33
        }
      ]
    },
    {
      "cell_type": "code",
      "source": [
        "edge_index = knn_graph(torch.tensor(positions[1][0]), 15, loop=True)"
      ],
      "metadata": {
        "id": "CdU3uc-C4PCj"
      },
      "execution_count": null,
      "outputs": []
    },
    {
      "cell_type": "code",
      "source": [
        "edge_index.shape"
      ],
      "metadata": {
        "colab": {
          "base_uri": "https://localhost:8080/"
        },
        "id": "0p_7Vyw9BUcw",
        "outputId": "1d4eb4be-d2cf-41ca-d472-c67f5a45f849"
      },
      "execution_count": null,
      "outputs": [
        {
          "output_type": "execute_result",
          "data": {
            "text/plain": [
              "torch.Size([2, 17685])"
            ]
          },
          "metadata": {},
          "execution_count": 36
        }
      ]
    },
    {
      "cell_type": "code",
      "source": [
        "edge_index[-1]"
      ],
      "metadata": {
        "colab": {
          "base_uri": "https://localhost:8080/"
        },
        "id": "75MTy4e1Ezvn",
        "outputId": "aaf8c265-8971-4a6c-efae-d517ba1f0d32"
      },
      "execution_count": null,
      "outputs": [
        {
          "output_type": "execute_result",
          "data": {
            "text/plain": [
              "tensor([   0,    0,    0,  ..., 1178, 1178, 1178])"
            ]
          },
          "metadata": {},
          "execution_count": 56
        }
      ]
    },
    {
      "cell_type": "code",
      "source": [
        "res = np.array(edge_index)\n",
        "for i in res:\n",
        "  ans = i[-15:]\n",
        "  break\n",
        "print(ans)\n",
        "point = ans[0]\n",
        "print(point)"
      ],
      "metadata": {
        "colab": {
          "base_uri": "https://localhost:8080/"
        },
        "id": "_sATwvFDBYk1",
        "outputId": "c570e41f-eda3-4f14-8f99-bafce184b643"
      },
      "execution_count": null,
      "outputs": [
        {
          "output_type": "stream",
          "name": "stdout",
          "text": [
            "[1178  353  259  370  296  526  357  607  295  517  309  178  260  692\n",
            "  258]\n",
            "1178\n"
          ]
        }
      ]
    },
    {
      "cell_type": "code",
      "source": [
        "test_data[1].shape"
      ],
      "metadata": {
        "colab": {
          "base_uri": "https://localhost:8080/"
        },
        "id": "VorJNNhOD-xO",
        "outputId": "4c38b85a-5aef-49f0-a5e4-01fc6858bda8"
      },
      "execution_count": null,
      "outputs": [
        {
          "output_type": "execute_result",
          "data": {
            "text/plain": [
              "(1179, 2)"
            ]
          },
          "metadata": {},
          "execution_count": 48
        }
      ]
    },
    {
      "cell_type": "code",
      "source": [
        "fig = plt.figure(figsize=(24, 12))\n",
        "ax1 = fig.add_subplot(1, 2, 1)\n",
        "ax1.set_xlim(metadata['bounds'][0][0], metadata['bounds'][0][1])\n",
        "ax1.set_ylim(metadata['bounds'][1][0], metadata['bounds'][1][1])\n",
        "\n",
        "X = [test_data[1][j][0] for j in range(test_data[1].shape[0])]\n",
        "Y = [test_data[1][j][1] for j in range(test_data[1].shape[0])]\n",
        "\n",
        "X1 = [test_data[1][j][0] for j in ans]\n",
        "Y1 = [test_data[1][j][1] for j in ans]\n",
        "\n",
        "X2 = test_data[1][point][0]\n",
        "Y2 = test_data[1][point][1]\n",
        "\n",
        "ax1.scatter(X, Y, color='blue')\n",
        "ax1.scatter(X1, Y1, color='red')\n",
        "ax1.scatter(X2, Y2, color='green')"
      ],
      "metadata": {
        "colab": {
          "base_uri": "https://localhost:8080/",
          "height": 722
        },
        "id": "jmdc4ep1DTNN",
        "outputId": "4dd2824d-6c28-42d5-d43a-f71b84088788"
      },
      "execution_count": null,
      "outputs": [
        {
          "output_type": "execute_result",
          "data": {
            "text/plain": [
              "<matplotlib.collections.PathCollection at 0x7f29d11c3c90>"
            ]
          },
          "metadata": {},
          "execution_count": 63
        },
        {
          "output_type": "display_data",
          "data": {
            "image/png": "[encoded data removed]",
            "text/plain": [
              "<Figure size 1728x864 with 1 Axes>"
            ]
          },
          "metadata": {
            "needs_background": "light"
          }
        }
      ]
    },
    {
      "cell_type": "code",
      "source": [
        "for i in range(1, 100):\n",
        "\n",
        "  fig = plt.figure(figsize=(24, 12))\n",
        "  ax1 = fig.add_subplot(1, 2, 1)\n",
        "  ax1.set_xlim(metadata['bounds'][0][0], metadata['bounds'][0][1])\n",
        "  ax1.set_ylim(metadata['bounds'][1][0], metadata['bounds'][1][1])\n",
        "\n",
        "  X = [test_data[i][j][0] for j in range(test_data[i].shape[0]) if particle_types_test[j]==1]\n",
        "  Y = [test_data[i][j][1] for j in range(test_data[i].shape[0]) if particle_types_test[j]==1]\n",
        "\n",
        "  X_borders = [test_data[i][j][0] for j in range(test_data[i].shape[0]) if particle_types_test[j]==0]\n",
        "  Y_borders = [test_data[i][j][1] for j in range(test_data[i].shape[0]) if particle_types_test[j]==0]\n",
        "\n",
        "  edge_index = knn_graph(x[:, :2], self.k, loop=True, flow=self.flow)\n",
        "\n",
        "  ax1.scatter(X, Y, color='blue')\n",
        "  ax1.scatter(X_borders, Y_borders, color='red')"
      ],
      "metadata": {
        "id": "zYCWnfld4Cy0"
      },
      "execution_count": null,
      "outputs": []
    },
    {
      "cell_type": "code",
      "source": [
        "for i in range(1, 100):\n",
        "\n",
        "  fig = plt.figure(figsize=(24, 12))\n",
        "  ax1 = fig.add_subplot(1, 2, 1)\n",
        "  ax1.set_xlim(metadata['bounds'][0][0], metadata['bounds'][0][1])\n",
        "  ax1.set_ylim(metadata['bounds'][1][0], metadata['bounds'][1][1])\n",
        "\n",
        "  X = [test_data[i][j][0] for j in range(test_data[i].shape[0]) if particle_types_test[j]==1]\n",
        "  Y = [test_data[i][j][1] for j in range(test_data[i].shape[0]) if particle_types_test[j]==1]\n",
        "\n",
        "  X_borders = [test_data[i][j][0] for j in range(test_data[i].shape[0]) if particle_types_test[j]==0]\n",
        "  Y_borders = [test_data[i][j][1] for j in range(test_data[i].shape[0]) if particle_types_test[j]==0]\n",
        "\n",
        "  ax1.scatter(X, Y, color='blue')\n",
        "  ax1.scatter(X_borders, Y_borders, color='red')\n",
        "\n",
        "  with torch.no_grad():\n",
        "\n",
        "    nodes_mask = torch.BoolTensor(particle_types_test).to(device)\n",
        "    input = torch.cat([torch.tensor(test_data[i-1], device=device), torch.tensor(particle_types_test, device=device).view(-1, 1)], dim=1)\n",
        "\n",
        "    pred_img = cmpn.forward(input, nodes_mask).cpu()\n",
        "\n",
        "    ax2 = fig.add_subplot(1, 2, 2)\n",
        "    ax2.set_xlim(metadata['bounds'][0][0], metadata['bounds'][0][1])\n",
        "    ax2.set_ylim(metadata['bounds'][1][0], metadata['bounds'][1][1])\n",
        "\n",
        "    X = [pred_img[j][0].item() for j in range(pred_img.shape[0]) if particle_types_test[j]==1]\n",
        "    Y = [pred_img[j][1].item() for j in range(pred_img.shape[0]) if particle_types_test[j]==1]\n",
        "\n",
        "    X_borders = [pred_img[j][0].item() for j in range(pred_img.shape[0]) if particle_types_test[j]==0]\n",
        "    Y_borders = [pred_img[j][1].item() for j in range(pred_img.shape[0]) if particle_types_test[j]==0]\n",
        "    \n",
        "    ax2.scatter(X, Y, color='blue')\n",
        "    ax2.scatter(X_borders, Y_borders, color='red')\n",
        "\n",
        "    clear_output(wait=True)\n",
        "    plt.show()"
      ],
      "metadata": {
        "id": "-1NKdr0_ALh8"
      },
      "execution_count": null,
      "outputs": []
    },
    {
      "cell_type": "markdown",
      "source": [
        "## Предсказания на основе предыдущих"
      ],
      "metadata": {
        "id": "lB5WOc5F_-Ir"
      }
    },
    {
      "cell_type": "code",
      "source": [
        "def build_scene2(cur, last1, last2, particle_types, inds, metadata):\n",
        "\n",
        "  i, j = inds\n",
        "\n",
        "  features = torch.tensor(cur, dtype=torch.float)\n",
        "\n",
        "  features = torch.cat([features, torch.tensor(last1)], dim=1)\n",
        "  features = torch.cat([features, torch.tensor(last2)], dim=1)\n",
        "\n",
        "  features = torch.cat([features, torch.tensor(get_borders_features(cur, metadata['bounds'])), \n",
        "                        torch.tensor(particle_types[i]).view(-1, 1)], dim=1)\n",
        "  \n",
        "  node_mask = torch.BoolTensor(particle_types[i])\n",
        "\n",
        "  return features, node_mask"
      ],
      "metadata": {
        "id": "Ke6IWqObespA"
      },
      "execution_count": null,
      "outputs": []
    },
    {
      "cell_type": "code",
      "source": [
        "target_ind = 7"
      ],
      "metadata": {
        "id": "APtw_hgjeP92"
      },
      "execution_count": null,
      "outputs": []
    },
    {
      "cell_type": "code",
      "source": [
        "test_data = positions[target_ind]\n",
        "particle_types_test = particle_types[target_ind]"
      ],
      "metadata": {
        "id": "Pxov5_MC3vSS"
      },
      "execution_count": null,
      "outputs": []
    },
    {
      "cell_type": "code",
      "source": [
        "inp, node_mask = build_scene2(train_data[target_ind][2], train_data[target_ind][1], train_data[target_ind][0], particle_types_train, (target_ind, 2), metadata)\n",
        "pred = gnn(inp.to(device), node_mask.to(device)).cpu()\n",
        "\n",
        "cur_pos = torch.tensor(train_data[target_ind][2])\n",
        "prev1_pos = torch.tensor(train_data[target_ind][1])\n",
        "prev2_pos = torch.tensor(train_data[target_ind][0])\n",
        "first_pos = cur_pos + (cur_pos-prev1_pos+pred)*metadata['dt'] + (cur_pos-2*prev1_pos+prev2_pos)*(metadata['dt']**2)\n",
        "\n",
        "inp, node_mask = build_scene2(first_pos.detach().numpy(), train_data[target_ind][2], train_data[target_ind][1], particle_types_train, (target_ind, 2), metadata)\n",
        "pred = gnn(inp.to(device), node_mask.to(device)).cpu()\n",
        "\n",
        "cur_pos = first_pos\n",
        "prev1_pos = torch.tensor(train_data[target_ind][2])\n",
        "prev2_pos = torch.tensor(train_data[target_ind][1])\n",
        "second_pos = cur_pos + (cur_pos-prev1_pos+pred)*metadata['dt'] + (cur_pos-2*prev1_pos+prev2_pos)*(metadata['dt']**2)\n",
        "\n",
        "inp, node_mask = build_scene2(second_pos.detach().numpy(), first_pos.detach().numpy(), train_data[target_ind][2], particle_types_train, (target_ind, 2), metadata)\n",
        "pred = gnn(inp.to(device), node_mask.to(device)).cpu()\n",
        "\n",
        "cur_pos = second_pos\n",
        "prev1_pos = first_pos\n",
        "prev2_pos = torch.tensor(train_data[target_ind][2])\n",
        "third_pos = cur_pos + (cur_pos-prev1_pos+pred)*metadata['dt'] + (cur_pos-2*prev1_pos+prev2_pos)*(metadata['dt']**2)"
      ],
      "metadata": {
        "id": "mEGHHE6Yo_sG"
      },
      "execution_count": null,
      "outputs": []
    },
    {
      "cell_type": "code",
      "source": [
        "for i in range(100):\n",
        "\n",
        "  fig = plt.figure(figsize=(24, 12))\n",
        "  ax1 = fig.add_subplot(1, 2, 1)\n",
        "  ax1.set_xlim(metadata['bounds'][0][0], metadata['bounds'][0][1])\n",
        "  ax1.set_ylim(metadata['bounds'][1][0], metadata['bounds'][1][1])\n",
        "\n",
        "  X = [test_data[i][j][0] for j in range(test_data[i].shape[0]) if particle_types_test[j]==1]\n",
        "  Y = [test_data[i][j][1] for j in range(test_data[i].shape[0]) if particle_types_test[j]==1]\n",
        "\n",
        "  X_borders = [test_data[i][j][0] for j in range(test_data[i].shape[0]) if particle_types_test[j]==0]\n",
        "  Y_borders = [test_data[i][j][1] for j in range(test_data[i].shape[0]) if particle_types_test[j]==0]\n",
        "\n",
        "  ax1.scatter(X, Y, color='blue')\n",
        "  ax1.scatter(X_borders, Y_borders, color='red')\n",
        "\n",
        "  with torch.no_grad():\n",
        "\n",
        "    inp, node_mask = build_scene2(third_pos.detach().numpy(), second_pos.detach().numpy(), first_pos.detach().numpy(), particle_types_train, (target_ind, 2), metadata)\n",
        "    pred = gnn(inp.to(device), node_mask.to(device)).cpu()\n",
        "\n",
        "    cur_pos = third_pos\n",
        "    prev1_pos = second_pos\n",
        "    prev2_pos = first_pos\n",
        "    new_pos = cur_pos + (cur_pos-prev1_pos+pred)*metadata['dt'] + (cur_pos-2*prev1_pos+prev2_pos)*(metadata['dt']**2)\n",
        "\n",
        "    first_pos = second_pos\n",
        "    second_pos = third_pos\n",
        "    third_pos = new_pos\n",
        "\n",
        "    pred_img = new_pos\n",
        "\n",
        "    ax2 = fig.add_subplot(1, 2, 2)\n",
        "    ax2.set_xlim(metadata['bounds'][0][0], metadata['bounds'][0][1])\n",
        "    ax2.set_ylim(metadata['bounds'][1][0], metadata['bounds'][1][1])\n",
        "\n",
        "    X = [pred_img[j][0].item() for j in range(pred_img.shape[0]) if particle_types_test[j]==1]\n",
        "    Y = [pred_img[j][1].item() for j in range(pred_img.shape[0]) if particle_types_test[j]==1]\n",
        "\n",
        "    X_borders = [pred_img[j][0].item() for j in range(pred_img.shape[0]) if particle_types_test[j]==0]\n",
        "    Y_borders = [pred_img[j][1].item() for j in range(pred_img.shape[0]) if particle_types_test[j]==0]\n",
        "    \n",
        "    ax2.scatter(X, Y, color='blue')\n",
        "    ax2.scatter(X_borders, Y_borders, color='red')\n",
        "\n",
        "    clear_output(wait=True)\n",
        "    plt.show()"
      ],
      "metadata": {
        "id": "W45EKGRnxcEp",
        "colab": {
          "base_uri": "https://localhost:8080/",
          "height": 396
        },
        "outputId": "1a89c443-9ace-4af5-d066-a3448a6e5795"
      },
      "execution_count": null,
      "outputs": [
        {
          "output_type": "error",
          "ename": "KeyboardInterrupt",
          "evalue": "ignored",
          "traceback": [
            "\u001b[0;31m---------------------------------------------------------------------------\u001b[0m",
            "\u001b[0;31mKeyboardInterrupt\u001b[0m                         Traceback (most recent call last)",
            "\u001b[0;32m<ipython-input-80-4d86051fcdd0>\u001b[0m in \u001b[0;36m<module>\u001b[0;34m()\u001b[0m\n\u001b[1;32m     45\u001b[0m \u001b[0;34m\u001b[0m\u001b[0m\n\u001b[1;32m     46\u001b[0m     \u001b[0mclear_output\u001b[0m\u001b[0;34m(\u001b[0m\u001b[0mwait\u001b[0m\u001b[0;34m=\u001b[0m\u001b[0;32mTrue\u001b[0m\u001b[0;34m)\u001b[0m\u001b[0;34m\u001b[0m\u001b[0;34m\u001b[0m\u001b[0m\n\u001b[0;32m---> 47\u001b[0;31m     \u001b[0mplt\u001b[0m\u001b[0;34m.\u001b[0m\u001b[0mshow\u001b[0m\u001b[0;34m(\u001b[0m\u001b[0;34m)\u001b[0m\u001b[0;34m\u001b[0m\u001b[0;34m\u001b[0m\u001b[0m\n\u001b[0m",
            "\u001b[0;32m/usr/local/lib/python3.7/dist-packages/matplotlib/pyplot.py\u001b[0m in \u001b[0;36mshow\u001b[0;34m(*args, **kw)\u001b[0m\n\u001b[1;32m    270\u001b[0m     \"\"\"\n\u001b[1;32m    271\u001b[0m     \u001b[0;32mglobal\u001b[0m \u001b[0m_show\u001b[0m\u001b[0;34m\u001b[0m\u001b[0;34m\u001b[0m\u001b[0m\n\u001b[0;32m--> 272\u001b[0;31m     \u001b[0;32mreturn\u001b[0m \u001b[0m_show\u001b[0m\u001b[0;34m(\u001b[0m\u001b[0;34m*\u001b[0m\u001b[0margs\u001b[0m\u001b[0;34m,\u001b[0m \u001b[0;34m**\u001b[0m\u001b[0mkw\u001b[0m\u001b[0;34m)\u001b[0m\u001b[0;34m\u001b[0m\u001b[0;34m\u001b[0m\u001b[0m\n\u001b[0m\u001b[1;32m    273\u001b[0m \u001b[0;34m\u001b[0m\u001b[0m\n\u001b[1;32m    274\u001b[0m \u001b[0;34m\u001b[0m\u001b[0m\n",
            "\u001b[0;32m/usr/local/lib/python3.7/dist-packages/ipykernel/pylab/backend_inline.py\u001b[0m in \u001b[0;36mshow\u001b[0;34m(close, block)\u001b[0m\n\u001b[1;32m     37\u001b[0m             display(\n\u001b[1;32m     38\u001b[0m                 \u001b[0mfigure_manager\u001b[0m\u001b[0;34m.\u001b[0m\u001b[0mcanvas\u001b[0m\u001b[0;34m.\u001b[0m\u001b[0mfigure\u001b[0m\u001b[0;34m,\u001b[0m\u001b[0;34m\u001b[0m\u001b[0;34m\u001b[0m\u001b[0m\n\u001b[0;32m---> 39\u001b[0;31m                 \u001b[0mmetadata\u001b[0m\u001b[0;34m=\u001b[0m\u001b[0m_fetch_figure_metadata\u001b[0m\u001b[0;34m(\u001b[0m\u001b[0mfigure_manager\u001b[0m\u001b[0;34m.\u001b[0m\u001b[0mcanvas\u001b[0m\u001b[0;34m.\u001b[0m\u001b[0mfigure\u001b[0m\u001b[0;34m)\u001b[0m\u001b[0;34m\u001b[0m\u001b[0;34m\u001b[0m\u001b[0m\n\u001b[0m\u001b[1;32m     40\u001b[0m             )\n\u001b[1;32m     41\u001b[0m     \u001b[0;32mfinally\u001b[0m\u001b[0;34m:\u001b[0m\u001b[0;34m\u001b[0m\u001b[0;34m\u001b[0m\u001b[0m\n",
            "\u001b[0;32m/usr/local/lib/python3.7/dist-packages/IPython/core/display.py\u001b[0m in \u001b[0;36mdisplay\u001b[0;34m(*objs, **kwargs)\u001b[0m\n\u001b[1;32m    304\u001b[0m             \u001b[0mpublish_display_data\u001b[0m\u001b[0;34m(\u001b[0m\u001b[0mdata\u001b[0m\u001b[0;34m=\u001b[0m\u001b[0mobj\u001b[0m\u001b[0;34m,\u001b[0m \u001b[0mmetadata\u001b[0m\u001b[0;34m=\u001b[0m\u001b[0mmetadata\u001b[0m\u001b[0;34m,\u001b[0m \u001b[0;34m**\u001b[0m\u001b[0mkwargs\u001b[0m\u001b[0;34m)\u001b[0m\u001b[0;34m\u001b[0m\u001b[0;34m\u001b[0m\u001b[0m\n\u001b[1;32m    305\u001b[0m         \u001b[0;32melse\u001b[0m\u001b[0;34m:\u001b[0m\u001b[0;34m\u001b[0m\u001b[0;34m\u001b[0m\u001b[0m\n\u001b[0;32m--> 306\u001b[0;31m             \u001b[0mformat_dict\u001b[0m\u001b[0;34m,\u001b[0m \u001b[0mmd_dict\u001b[0m \u001b[0;34m=\u001b[0m \u001b[0mformat\u001b[0m\u001b[0;34m(\u001b[0m\u001b[0mobj\u001b[0m\u001b[0;34m,\u001b[0m \u001b[0minclude\u001b[0m\u001b[0;34m=\u001b[0m\u001b[0minclude\u001b[0m\u001b[0;34m,\u001b[0m \u001b[0mexclude\u001b[0m\u001b[0;34m=\u001b[0m\u001b[0mexclude\u001b[0m\u001b[0;34m)\u001b[0m\u001b[0;34m\u001b[0m\u001b[0;34m\u001b[0m\u001b[0m\n\u001b[0m\u001b[1;32m    307\u001b[0m             \u001b[0;32mif\u001b[0m \u001b[0;32mnot\u001b[0m \u001b[0mformat_dict\u001b[0m\u001b[0;34m:\u001b[0m\u001b[0;34m\u001b[0m\u001b[0;34m\u001b[0m\u001b[0m\n\u001b[1;32m    308\u001b[0m                 \u001b[0;31m# nothing to display (e.g. _ipython_display_ took over)\u001b[0m\u001b[0;34m\u001b[0m\u001b[0;34m\u001b[0m\u001b[0;34m\u001b[0m\u001b[0m\n",
            "\u001b[0;32m/usr/local/lib/python3.7/dist-packages/IPython/core/formatters.py\u001b[0m in \u001b[0;36mformat\u001b[0;34m(self, obj, include, exclude)\u001b[0m\n\u001b[1;32m    171\u001b[0m             \u001b[0mmd\u001b[0m \u001b[0;34m=\u001b[0m \u001b[0;32mNone\u001b[0m\u001b[0;34m\u001b[0m\u001b[0;34m\u001b[0m\u001b[0m\n\u001b[1;32m    172\u001b[0m             \u001b[0;32mtry\u001b[0m\u001b[0;34m:\u001b[0m\u001b[0;34m\u001b[0m\u001b[0;34m\u001b[0m\u001b[0m\n\u001b[0;32m--> 173\u001b[0;31m                 \u001b[0mdata\u001b[0m \u001b[0;34m=\u001b[0m \u001b[0mformatter\u001b[0m\u001b[0;34m(\u001b[0m\u001b[0mobj\u001b[0m\u001b[0;34m)\u001b[0m\u001b[0;34m\u001b[0m\u001b[0;34m\u001b[0m\u001b[0m\n\u001b[0m\u001b[1;32m    174\u001b[0m             \u001b[0;32mexcept\u001b[0m\u001b[0;34m:\u001b[0m\u001b[0;34m\u001b[0m\u001b[0;34m\u001b[0m\u001b[0m\n\u001b[1;32m    175\u001b[0m                 \u001b[0;31m# FIXME: log the exception\u001b[0m\u001b[0;34m\u001b[0m\u001b[0;34m\u001b[0m\u001b[0;34m\u001b[0m\u001b[0m\n",
            "\u001b[0;32m<decorator-gen-2>\u001b[0m in \u001b[0;36m__call__\u001b[0;34m(self, obj)\u001b[0m\n",
            "\u001b[0;32m/usr/local/lib/python3.7/dist-packages/IPython/core/formatters.py\u001b[0m in \u001b[0;36mcatch_format_error\u001b[0;34m(method, self, *args, **kwargs)\u001b[0m\n\u001b[1;32m    215\u001b[0m     \u001b[0;34m\"\"\"show traceback on failed format call\"\"\"\u001b[0m\u001b[0;34m\u001b[0m\u001b[0;34m\u001b[0m\u001b[0m\n\u001b[1;32m    216\u001b[0m     \u001b[0;32mtry\u001b[0m\u001b[0;34m:\u001b[0m\u001b[0;34m\u001b[0m\u001b[0;34m\u001b[0m\u001b[0m\n\u001b[0;32m--> 217\u001b[0;31m         \u001b[0mr\u001b[0m \u001b[0;34m=\u001b[0m \u001b[0mmethod\u001b[0m\u001b[0;34m(\u001b[0m\u001b[0mself\u001b[0m\u001b[0;34m,\u001b[0m \u001b[0;34m*\u001b[0m\u001b[0margs\u001b[0m\u001b[0;34m,\u001b[0m \u001b[0;34m**\u001b[0m\u001b[0mkwargs\u001b[0m\u001b[0;34m)\u001b[0m\u001b[0;34m\u001b[0m\u001b[0;34m\u001b[0m\u001b[0m\n\u001b[0m\u001b[1;32m    218\u001b[0m     \u001b[0;32mexcept\u001b[0m \u001b[0mNotImplementedError\u001b[0m\u001b[0;34m:\u001b[0m\u001b[0;34m\u001b[0m\u001b[0;34m\u001b[0m\u001b[0m\n\u001b[1;32m    219\u001b[0m         \u001b[0;31m# don't warn on NotImplementedErrors\u001b[0m\u001b[0;34m\u001b[0m\u001b[0;34m\u001b[0m\u001b[0;34m\u001b[0m\u001b[0m\n",
            "\u001b[0;32m/usr/local/lib/python3.7/dist-packages/IPython/core/formatters.py\u001b[0m in \u001b[0;36m__call__\u001b[0;34m(self, obj)\u001b[0m\n\u001b[1;32m    332\u001b[0m                 \u001b[0;32mpass\u001b[0m\u001b[0;34m\u001b[0m\u001b[0;34m\u001b[0m\u001b[0m\n\u001b[1;32m    333\u001b[0m             \u001b[0;32melse\u001b[0m\u001b[0;34m:\u001b[0m\u001b[0;34m\u001b[0m\u001b[0;34m\u001b[0m\u001b[0m\n\u001b[0;32m--> 334\u001b[0;31m                 \u001b[0;32mreturn\u001b[0m \u001b[0mprinter\u001b[0m\u001b[0;34m(\u001b[0m\u001b[0mobj\u001b[0m\u001b[0;34m)\u001b[0m\u001b[0;34m\u001b[0m\u001b[0;34m\u001b[0m\u001b[0m\n\u001b[0m\u001b[1;32m    335\u001b[0m             \u001b[0;31m# Finally look for special method names\u001b[0m\u001b[0;34m\u001b[0m\u001b[0;34m\u001b[0m\u001b[0;34m\u001b[0m\u001b[0m\n\u001b[1;32m    336\u001b[0m             \u001b[0mmethod\u001b[0m \u001b[0;34m=\u001b[0m \u001b[0mget_real_method\u001b[0m\u001b[0;34m(\u001b[0m\u001b[0mobj\u001b[0m\u001b[0;34m,\u001b[0m \u001b[0mself\u001b[0m\u001b[0;34m.\u001b[0m\u001b[0mprint_method\u001b[0m\u001b[0;34m)\u001b[0m\u001b[0;34m\u001b[0m\u001b[0;34m\u001b[0m\u001b[0m\n",
            "\u001b[0;32m/usr/local/lib/python3.7/dist-packages/IPython/core/pylabtools.py\u001b[0m in \u001b[0;36m<lambda>\u001b[0;34m(fig)\u001b[0m\n\u001b[1;32m    239\u001b[0m \u001b[0;34m\u001b[0m\u001b[0m\n\u001b[1;32m    240\u001b[0m     \u001b[0;32mif\u001b[0m \u001b[0;34m'png'\u001b[0m \u001b[0;32min\u001b[0m \u001b[0mformats\u001b[0m\u001b[0;34m:\u001b[0m\u001b[0;34m\u001b[0m\u001b[0;34m\u001b[0m\u001b[0m\n\u001b[0;32m--> 241\u001b[0;31m         \u001b[0mpng_formatter\u001b[0m\u001b[0;34m.\u001b[0m\u001b[0mfor_type\u001b[0m\u001b[0;34m(\u001b[0m\u001b[0mFigure\u001b[0m\u001b[0;34m,\u001b[0m \u001b[0;32mlambda\u001b[0m \u001b[0mfig\u001b[0m\u001b[0;34m:\u001b[0m \u001b[0mprint_figure\u001b[0m\u001b[0;34m(\u001b[0m\u001b[0mfig\u001b[0m\u001b[0;34m,\u001b[0m \u001b[0;34m'png'\u001b[0m\u001b[0;34m,\u001b[0m \u001b[0;34m**\u001b[0m\u001b[0mkwargs\u001b[0m\u001b[0;34m)\u001b[0m\u001b[0;34m)\u001b[0m\u001b[0;34m\u001b[0m\u001b[0;34m\u001b[0m\u001b[0m\n\u001b[0m\u001b[1;32m    242\u001b[0m     \u001b[0;32mif\u001b[0m \u001b[0;34m'retina'\u001b[0m \u001b[0;32min\u001b[0m \u001b[0mformats\u001b[0m \u001b[0;32mor\u001b[0m \u001b[0;34m'png2x'\u001b[0m \u001b[0;32min\u001b[0m \u001b[0mformats\u001b[0m\u001b[0;34m:\u001b[0m\u001b[0;34m\u001b[0m\u001b[0;34m\u001b[0m\u001b[0m\n\u001b[1;32m    243\u001b[0m         \u001b[0mpng_formatter\u001b[0m\u001b[0;34m.\u001b[0m\u001b[0mfor_type\u001b[0m\u001b[0;34m(\u001b[0m\u001b[0mFigure\u001b[0m\u001b[0;34m,\u001b[0m \u001b[0;32mlambda\u001b[0m \u001b[0mfig\u001b[0m\u001b[0;34m:\u001b[0m \u001b[0mretina_figure\u001b[0m\u001b[0;34m(\u001b[0m\u001b[0mfig\u001b[0m\u001b[0;34m,\u001b[0m \u001b[0;34m**\u001b[0m\u001b[0mkwargs\u001b[0m\u001b[0;34m)\u001b[0m\u001b[0;34m)\u001b[0m\u001b[0;34m\u001b[0m\u001b[0;34m\u001b[0m\u001b[0m\n",
            "\u001b[0;32m/usr/local/lib/python3.7/dist-packages/IPython/core/pylabtools.py\u001b[0m in \u001b[0;36mprint_figure\u001b[0;34m(fig, fmt, bbox_inches, **kwargs)\u001b[0m\n\u001b[1;32m    123\u001b[0m \u001b[0;34m\u001b[0m\u001b[0m\n\u001b[1;32m    124\u001b[0m     \u001b[0mbytes_io\u001b[0m \u001b[0;34m=\u001b[0m \u001b[0mBytesIO\u001b[0m\u001b[0;34m(\u001b[0m\u001b[0;34m)\u001b[0m\u001b[0;34m\u001b[0m\u001b[0;34m\u001b[0m\u001b[0m\n\u001b[0;32m--> 125\u001b[0;31m     \u001b[0mfig\u001b[0m\u001b[0;34m.\u001b[0m\u001b[0mcanvas\u001b[0m\u001b[0;34m.\u001b[0m\u001b[0mprint_figure\u001b[0m\u001b[0;34m(\u001b[0m\u001b[0mbytes_io\u001b[0m\u001b[0;34m,\u001b[0m \u001b[0;34m**\u001b[0m\u001b[0mkw\u001b[0m\u001b[0;34m)\u001b[0m\u001b[0;34m\u001b[0m\u001b[0;34m\u001b[0m\u001b[0m\n\u001b[0m\u001b[1;32m    126\u001b[0m     \u001b[0mdata\u001b[0m \u001b[0;34m=\u001b[0m \u001b[0mbytes_io\u001b[0m\u001b[0;34m.\u001b[0m\u001b[0mgetvalue\u001b[0m\u001b[0;34m(\u001b[0m\u001b[0;34m)\u001b[0m\u001b[0;34m\u001b[0m\u001b[0;34m\u001b[0m\u001b[0m\n\u001b[1;32m    127\u001b[0m     \u001b[0;32mif\u001b[0m \u001b[0mfmt\u001b[0m \u001b[0;34m==\u001b[0m \u001b[0;34m'svg'\u001b[0m\u001b[0;34m:\u001b[0m\u001b[0;34m\u001b[0m\u001b[0;34m\u001b[0m\u001b[0m\n",
            "\u001b[0;32m/usr/local/lib/python3.7/dist-packages/matplotlib/backend_bases.py\u001b[0m in \u001b[0;36mprint_figure\u001b[0;34m(self, filename, dpi, facecolor, edgecolor, orientation, format, bbox_inches, **kwargs)\u001b[0m\n\u001b[1;32m   2124\u001b[0m                     \u001b[0morientation\u001b[0m\u001b[0;34m=\u001b[0m\u001b[0morientation\u001b[0m\u001b[0;34m,\u001b[0m\u001b[0;34m\u001b[0m\u001b[0;34m\u001b[0m\u001b[0m\n\u001b[1;32m   2125\u001b[0m                     \u001b[0mbbox_inches_restore\u001b[0m\u001b[0;34m=\u001b[0m\u001b[0m_bbox_inches_restore\u001b[0m\u001b[0;34m,\u001b[0m\u001b[0;34m\u001b[0m\u001b[0;34m\u001b[0m\u001b[0m\n\u001b[0;32m-> 2126\u001b[0;31m                     **kwargs)\n\u001b[0m\u001b[1;32m   2127\u001b[0m             \u001b[0;32mfinally\u001b[0m\u001b[0;34m:\u001b[0m\u001b[0;34m\u001b[0m\u001b[0;34m\u001b[0m\u001b[0m\n\u001b[1;32m   2128\u001b[0m                 \u001b[0;32mif\u001b[0m \u001b[0mbbox_inches\u001b[0m \u001b[0;32mand\u001b[0m \u001b[0mrestore_bbox\u001b[0m\u001b[0;34m:\u001b[0m\u001b[0;34m\u001b[0m\u001b[0;34m\u001b[0m\u001b[0m\n",
            "\u001b[0;32m/usr/local/lib/python3.7/dist-packages/matplotlib/backends/backend_agg.py\u001b[0m in \u001b[0;36mprint_png\u001b[0;34m(self, filename_or_obj, metadata, pil_kwargs, *args, **kwargs)\u001b[0m\n\u001b[1;32m    512\u001b[0m         }\n\u001b[1;32m    513\u001b[0m \u001b[0;34m\u001b[0m\u001b[0m\n\u001b[0;32m--> 514\u001b[0;31m         \u001b[0mFigureCanvasAgg\u001b[0m\u001b[0;34m.\u001b[0m\u001b[0mdraw\u001b[0m\u001b[0;34m(\u001b[0m\u001b[0mself\u001b[0m\u001b[0;34m)\u001b[0m\u001b[0;34m\u001b[0m\u001b[0;34m\u001b[0m\u001b[0m\n\u001b[0m\u001b[1;32m    515\u001b[0m         \u001b[0;32mif\u001b[0m \u001b[0mpil_kwargs\u001b[0m \u001b[0;32mis\u001b[0m \u001b[0;32mnot\u001b[0m \u001b[0;32mNone\u001b[0m\u001b[0;34m:\u001b[0m\u001b[0;34m\u001b[0m\u001b[0;34m\u001b[0m\u001b[0m\n\u001b[1;32m    516\u001b[0m             \u001b[0;32mfrom\u001b[0m \u001b[0mPIL\u001b[0m \u001b[0;32mimport\u001b[0m \u001b[0mImage\u001b[0m\u001b[0;34m\u001b[0m\u001b[0;34m\u001b[0m\u001b[0m\n",
            "\u001b[0;32m/usr/local/lib/python3.7/dist-packages/matplotlib/backends/backend_agg.py\u001b[0m in \u001b[0;36mdraw\u001b[0;34m(self)\u001b[0m\n\u001b[1;32m    391\u001b[0m              (self.toolbar._wait_cursor_for_draw_cm() if self.toolbar\n\u001b[1;32m    392\u001b[0m               else nullcontext()):\n\u001b[0;32m--> 393\u001b[0;31m             \u001b[0mself\u001b[0m\u001b[0;34m.\u001b[0m\u001b[0mfigure\u001b[0m\u001b[0;34m.\u001b[0m\u001b[0mdraw\u001b[0m\u001b[0;34m(\u001b[0m\u001b[0mself\u001b[0m\u001b[0;34m.\u001b[0m\u001b[0mrenderer\u001b[0m\u001b[0;34m)\u001b[0m\u001b[0;34m\u001b[0m\u001b[0;34m\u001b[0m\u001b[0m\n\u001b[0m\u001b[1;32m    394\u001b[0m             \u001b[0;31m# A GUI class may be need to update a window using this draw, so\u001b[0m\u001b[0;34m\u001b[0m\u001b[0;34m\u001b[0m\u001b[0;34m\u001b[0m\u001b[0m\n\u001b[1;32m    395\u001b[0m             \u001b[0;31m# don't forget to call the superclass.\u001b[0m\u001b[0;34m\u001b[0m\u001b[0;34m\u001b[0m\u001b[0;34m\u001b[0m\u001b[0m\n",
            "\u001b[0;32m/usr/local/lib/python3.7/dist-packages/matplotlib/artist.py\u001b[0m in \u001b[0;36mdraw_wrapper\u001b[0;34m(artist, renderer, *args, **kwargs)\u001b[0m\n\u001b[1;32m     36\u001b[0m                 \u001b[0mrenderer\u001b[0m\u001b[0;34m.\u001b[0m\u001b[0mstart_filter\u001b[0m\u001b[0;34m(\u001b[0m\u001b[0;34m)\u001b[0m\u001b[0;34m\u001b[0m\u001b[0;34m\u001b[0m\u001b[0m\n\u001b[1;32m     37\u001b[0m \u001b[0;34m\u001b[0m\u001b[0m\n\u001b[0;32m---> 38\u001b[0;31m             \u001b[0;32mreturn\u001b[0m \u001b[0mdraw\u001b[0m\u001b[0;34m(\u001b[0m\u001b[0martist\u001b[0m\u001b[0;34m,\u001b[0m \u001b[0mrenderer\u001b[0m\u001b[0;34m,\u001b[0m \u001b[0;34m*\u001b[0m\u001b[0margs\u001b[0m\u001b[0;34m,\u001b[0m \u001b[0;34m**\u001b[0m\u001b[0mkwargs\u001b[0m\u001b[0;34m)\u001b[0m\u001b[0;34m\u001b[0m\u001b[0;34m\u001b[0m\u001b[0m\n\u001b[0m\u001b[1;32m     39\u001b[0m         \u001b[0;32mfinally\u001b[0m\u001b[0;34m:\u001b[0m\u001b[0;34m\u001b[0m\u001b[0;34m\u001b[0m\u001b[0m\n\u001b[1;32m     40\u001b[0m             \u001b[0;32mif\u001b[0m \u001b[0martist\u001b[0m\u001b[0;34m.\u001b[0m\u001b[0mget_agg_filter\u001b[0m\u001b[0;34m(\u001b[0m\u001b[0;34m)\u001b[0m \u001b[0;32mis\u001b[0m \u001b[0;32mnot\u001b[0m \u001b[0;32mNone\u001b[0m\u001b[0;34m:\u001b[0m\u001b[0;34m\u001b[0m\u001b[0;34m\u001b[0m\u001b[0m\n",
            "\u001b[0;32m/usr/local/lib/python3.7/dist-packages/matplotlib/figure.py\u001b[0m in \u001b[0;36mdraw\u001b[0;34m(self, renderer)\u001b[0m\n\u001b[1;32m   1734\u001b[0m             \u001b[0mself\u001b[0m\u001b[0;34m.\u001b[0m\u001b[0mpatch\u001b[0m\u001b[0;34m.\u001b[0m\u001b[0mdraw\u001b[0m\u001b[0;34m(\u001b[0m\u001b[0mrenderer\u001b[0m\u001b[0;34m)\u001b[0m\u001b[0;34m\u001b[0m\u001b[0;34m\u001b[0m\u001b[0m\n\u001b[1;32m   1735\u001b[0m             mimage._draw_list_compositing_images(\n\u001b[0;32m-> 1736\u001b[0;31m                 renderer, self, artists, self.suppressComposite)\n\u001b[0m\u001b[1;32m   1737\u001b[0m \u001b[0;34m\u001b[0m\u001b[0m\n\u001b[1;32m   1738\u001b[0m             \u001b[0mrenderer\u001b[0m\u001b[0;34m.\u001b[0m\u001b[0mclose_group\u001b[0m\u001b[0;34m(\u001b[0m\u001b[0;34m'figure'\u001b[0m\u001b[0;34m)\u001b[0m\u001b[0;34m\u001b[0m\u001b[0;34m\u001b[0m\u001b[0m\n",
            "\u001b[0;32m/usr/local/lib/python3.7/dist-packages/matplotlib/image.py\u001b[0m in \u001b[0;36m_draw_list_compositing_images\u001b[0;34m(renderer, parent, artists, suppress_composite)\u001b[0m\n\u001b[1;32m    135\u001b[0m     \u001b[0;32mif\u001b[0m \u001b[0mnot_composite\u001b[0m \u001b[0;32mor\u001b[0m \u001b[0;32mnot\u001b[0m \u001b[0mhas_images\u001b[0m\u001b[0;34m:\u001b[0m\u001b[0;34m\u001b[0m\u001b[0;34m\u001b[0m\u001b[0m\n\u001b[1;32m    136\u001b[0m         \u001b[0;32mfor\u001b[0m \u001b[0ma\u001b[0m \u001b[0;32min\u001b[0m \u001b[0martists\u001b[0m\u001b[0;34m:\u001b[0m\u001b[0;34m\u001b[0m\u001b[0;34m\u001b[0m\u001b[0m\n\u001b[0;32m--> 137\u001b[0;31m             \u001b[0ma\u001b[0m\u001b[0;34m.\u001b[0m\u001b[0mdraw\u001b[0m\u001b[0;34m(\u001b[0m\u001b[0mrenderer\u001b[0m\u001b[0;34m)\u001b[0m\u001b[0;34m\u001b[0m\u001b[0;34m\u001b[0m\u001b[0m\n\u001b[0m\u001b[1;32m    138\u001b[0m     \u001b[0;32melse\u001b[0m\u001b[0;34m:\u001b[0m\u001b[0;34m\u001b[0m\u001b[0;34m\u001b[0m\u001b[0m\n\u001b[1;32m    139\u001b[0m         \u001b[0;31m# Composite any adjacent images together\u001b[0m\u001b[0;34m\u001b[0m\u001b[0;34m\u001b[0m\u001b[0;34m\u001b[0m\u001b[0m\n",
            "\u001b[0;32m/usr/local/lib/python3.7/dist-packages/matplotlib/artist.py\u001b[0m in \u001b[0;36mdraw_wrapper\u001b[0;34m(artist, renderer, *args, **kwargs)\u001b[0m\n\u001b[1;32m     36\u001b[0m                 \u001b[0mrenderer\u001b[0m\u001b[0;34m.\u001b[0m\u001b[0mstart_filter\u001b[0m\u001b[0;34m(\u001b[0m\u001b[0;34m)\u001b[0m\u001b[0;34m\u001b[0m\u001b[0;34m\u001b[0m\u001b[0m\n\u001b[1;32m     37\u001b[0m \u001b[0;34m\u001b[0m\u001b[0m\n\u001b[0;32m---> 38\u001b[0;31m             \u001b[0;32mreturn\u001b[0m \u001b[0mdraw\u001b[0m\u001b[0;34m(\u001b[0m\u001b[0martist\u001b[0m\u001b[0;34m,\u001b[0m \u001b[0mrenderer\u001b[0m\u001b[0;34m,\u001b[0m \u001b[0;34m*\u001b[0m\u001b[0margs\u001b[0m\u001b[0;34m,\u001b[0m \u001b[0;34m**\u001b[0m\u001b[0mkwargs\u001b[0m\u001b[0;34m)\u001b[0m\u001b[0;34m\u001b[0m\u001b[0;34m\u001b[0m\u001b[0m\n\u001b[0m\u001b[1;32m     39\u001b[0m         \u001b[0;32mfinally\u001b[0m\u001b[0;34m:\u001b[0m\u001b[0;34m\u001b[0m\u001b[0;34m\u001b[0m\u001b[0m\n\u001b[1;32m     40\u001b[0m             \u001b[0;32mif\u001b[0m \u001b[0martist\u001b[0m\u001b[0;34m.\u001b[0m\u001b[0mget_agg_filter\u001b[0m\u001b[0;34m(\u001b[0m\u001b[0;34m)\u001b[0m \u001b[0;32mis\u001b[0m \u001b[0;32mnot\u001b[0m \u001b[0;32mNone\u001b[0m\u001b[0;34m:\u001b[0m\u001b[0;34m\u001b[0m\u001b[0;34m\u001b[0m\u001b[0m\n",
            "\u001b[0;32m/usr/local/lib/python3.7/dist-packages/matplotlib/axes/_base.py\u001b[0m in \u001b[0;36mdraw\u001b[0;34m(self, renderer, inframe)\u001b[0m\n\u001b[1;32m   2621\u001b[0m         \u001b[0;31m# will draw the edges\u001b[0m\u001b[0;34m\u001b[0m\u001b[0;34m\u001b[0m\u001b[0;34m\u001b[0m\u001b[0m\n\u001b[1;32m   2622\u001b[0m         \u001b[0;32mif\u001b[0m \u001b[0mself\u001b[0m\u001b[0;34m.\u001b[0m\u001b[0maxison\u001b[0m \u001b[0;32mand\u001b[0m \u001b[0mself\u001b[0m\u001b[0;34m.\u001b[0m\u001b[0m_frameon\u001b[0m\u001b[0;34m:\u001b[0m\u001b[0;34m\u001b[0m\u001b[0;34m\u001b[0m\u001b[0m\n\u001b[0;32m-> 2623\u001b[0;31m             \u001b[0mself\u001b[0m\u001b[0;34m.\u001b[0m\u001b[0mpatch\u001b[0m\u001b[0;34m.\u001b[0m\u001b[0mdraw\u001b[0m\u001b[0;34m(\u001b[0m\u001b[0mrenderer\u001b[0m\u001b[0;34m)\u001b[0m\u001b[0;34m\u001b[0m\u001b[0;34m\u001b[0m\u001b[0m\n\u001b[0m\u001b[1;32m   2624\u001b[0m \u001b[0;34m\u001b[0m\u001b[0m\n\u001b[1;32m   2625\u001b[0m         \u001b[0;32mif\u001b[0m \u001b[0martists_rasterized\u001b[0m\u001b[0;34m:\u001b[0m\u001b[0;34m\u001b[0m\u001b[0;34m\u001b[0m\u001b[0m\n",
            "\u001b[0;32m/usr/local/lib/python3.7/dist-packages/matplotlib/artist.py\u001b[0m in \u001b[0;36mdraw_wrapper\u001b[0;34m(artist, renderer, *args, **kwargs)\u001b[0m\n\u001b[1;32m     36\u001b[0m                 \u001b[0mrenderer\u001b[0m\u001b[0;34m.\u001b[0m\u001b[0mstart_filter\u001b[0m\u001b[0;34m(\u001b[0m\u001b[0;34m)\u001b[0m\u001b[0;34m\u001b[0m\u001b[0;34m\u001b[0m\u001b[0m\n\u001b[1;32m     37\u001b[0m \u001b[0;34m\u001b[0m\u001b[0m\n\u001b[0;32m---> 38\u001b[0;31m             \u001b[0;32mreturn\u001b[0m \u001b[0mdraw\u001b[0m\u001b[0;34m(\u001b[0m\u001b[0martist\u001b[0m\u001b[0;34m,\u001b[0m \u001b[0mrenderer\u001b[0m\u001b[0;34m,\u001b[0m \u001b[0;34m*\u001b[0m\u001b[0margs\u001b[0m\u001b[0;34m,\u001b[0m \u001b[0;34m**\u001b[0m\u001b[0mkwargs\u001b[0m\u001b[0;34m)\u001b[0m\u001b[0;34m\u001b[0m\u001b[0;34m\u001b[0m\u001b[0m\n\u001b[0m\u001b[1;32m     39\u001b[0m         \u001b[0;32mfinally\u001b[0m\u001b[0;34m:\u001b[0m\u001b[0;34m\u001b[0m\u001b[0;34m\u001b[0m\u001b[0m\n\u001b[1;32m     40\u001b[0m             \u001b[0;32mif\u001b[0m \u001b[0martist\u001b[0m\u001b[0;34m.\u001b[0m\u001b[0mget_agg_filter\u001b[0m\u001b[0;34m(\u001b[0m\u001b[0;34m)\u001b[0m \u001b[0;32mis\u001b[0m \u001b[0;32mnot\u001b[0m \u001b[0;32mNone\u001b[0m\u001b[0;34m:\u001b[0m\u001b[0;34m\u001b[0m\u001b[0;34m\u001b[0m\u001b[0m\n",
            "\u001b[0;32m/usr/local/lib/python3.7/dist-packages/matplotlib/patches.py\u001b[0m in \u001b[0;36mdraw\u001b[0;34m(self, renderer)\u001b[0m\n\u001b[1;32m    600\u001b[0m                       \u001b[0;31m# do not draw the hatches if the facecolor is fully\u001b[0m\u001b[0;34m\u001b[0m\u001b[0;34m\u001b[0m\u001b[0;34m\u001b[0m\u001b[0m\n\u001b[1;32m    601\u001b[0m                       \u001b[0;31m# transparent, but do if it is None.\u001b[0m\u001b[0;34m\u001b[0m\u001b[0;34m\u001b[0m\u001b[0;34m\u001b[0m\u001b[0m\n\u001b[0;32m--> 602\u001b[0;31m                       self._facecolor if self._facecolor[3] else None)\n\u001b[0m\u001b[1;32m    603\u001b[0m \u001b[0;34m\u001b[0m\u001b[0m\n\u001b[1;32m    604\u001b[0m     \u001b[0;32mdef\u001b[0m \u001b[0mget_path\u001b[0m\u001b[0;34m(\u001b[0m\u001b[0mself\u001b[0m\u001b[0;34m)\u001b[0m\u001b[0;34m:\u001b[0m\u001b[0;34m\u001b[0m\u001b[0;34m\u001b[0m\u001b[0m\n",
            "\u001b[0;32m/usr/local/lib/python3.7/dist-packages/matplotlib/backends/backend_agg.py\u001b[0m in \u001b[0;36mdraw_path\u001b[0;34m(self, gc, path, transform, rgbFace)\u001b[0m\n\u001b[1;32m    150\u001b[0m         \u001b[0;32melse\u001b[0m\u001b[0;34m:\u001b[0m\u001b[0;34m\u001b[0m\u001b[0;34m\u001b[0m\u001b[0m\n\u001b[1;32m    151\u001b[0m             \u001b[0;32mtry\u001b[0m\u001b[0;34m:\u001b[0m\u001b[0;34m\u001b[0m\u001b[0;34m\u001b[0m\u001b[0m\n\u001b[0;32m--> 152\u001b[0;31m                 \u001b[0mself\u001b[0m\u001b[0;34m.\u001b[0m\u001b[0m_renderer\u001b[0m\u001b[0;34m.\u001b[0m\u001b[0mdraw_path\u001b[0m\u001b[0;34m(\u001b[0m\u001b[0mgc\u001b[0m\u001b[0;34m,\u001b[0m \u001b[0mpath\u001b[0m\u001b[0;34m,\u001b[0m \u001b[0mtransform\u001b[0m\u001b[0;34m,\u001b[0m \u001b[0mrgbFace\u001b[0m\u001b[0;34m)\u001b[0m\u001b[0;34m\u001b[0m\u001b[0;34m\u001b[0m\u001b[0m\n\u001b[0m\u001b[1;32m    153\u001b[0m             \u001b[0;32mexcept\u001b[0m \u001b[0mOverflowError\u001b[0m\u001b[0;34m:\u001b[0m\u001b[0;34m\u001b[0m\u001b[0;34m\u001b[0m\u001b[0m\n\u001b[1;32m    154\u001b[0m                 raise OverflowError(\"Exceeded cell block limit (set \"\n",
            "\u001b[0;31mKeyboardInterrupt\u001b[0m: "
          ]
        }
      ]
    }
  ]
}
